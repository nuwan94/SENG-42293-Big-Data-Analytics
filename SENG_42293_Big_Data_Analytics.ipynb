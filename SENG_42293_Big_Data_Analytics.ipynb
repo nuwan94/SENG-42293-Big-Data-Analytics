{
  "nbformat": 4,
  "nbformat_minor": 0,
  "metadata": {
    "colab": {
      "name": "SENG 42293 - Big Data Analytics",
      "provenance": [],
      "toc_visible": true,
      "authorship_tag": "ABX9TyNov+pRoaEDXTQjAHd4NLC3",
      "include_colab_link": true
    },
    "kernelspec": {
      "name": "python3",
      "display_name": "Python 3"
    }
  },
  "cells": [
    {
      "cell_type": "markdown",
      "metadata": {
        "id": "view-in-github",
        "colab_type": "text"
      },
      "source": [
        "<a href=\"https://colab.research.google.com/github/nuwan94/SENG-42293-Big-Data-Analytics/blob/main/SENG_42293_Big_Data_Analytics.ipynb\" target=\"_parent\"><img src=\"https://colab.research.google.com/assets/colab-badge.svg\" alt=\"Open In Colab\"/></a>"
      ]
    },
    {
      "cell_type": "code",
      "metadata": {
        "id": "cvF4hm_My-D1",
        "outputId": "e040d3c7-0949-43ca-ba51-1f0ca0a868e5",
        "colab": {
          "base_uri": "https://localhost:8080/",
          "height": 195
        }
      },
      "source": [
        "import pandas as pd\r\n",
        "\r\n",
        "user_resturant_reviews = pd.read_csv('User_restaurants_reviews.csv')\r\n",
        "user_resturant_reviews.head()"
      ],
      "execution_count": 1,
      "outputs": [
        {
          "output_type": "execute_result",
          "data": {
            "text/html": [
              "<div>\n",
              "<style scoped>\n",
              "    .dataframe tbody tr th:only-of-type {\n",
              "        vertical-align: middle;\n",
              "    }\n",
              "\n",
              "    .dataframe tbody tr th {\n",
              "        vertical-align: top;\n",
              "    }\n",
              "\n",
              "    .dataframe thead th {\n",
              "        text-align: right;\n",
              "    }\n",
              "</style>\n",
              "<table border=\"1\" class=\"dataframe\">\n",
              "  <thead>\n",
              "    <tr style=\"text-align: right;\">\n",
              "      <th></th>\n",
              "      <th>Review</th>\n",
              "      <th>Sentiment</th>\n",
              "    </tr>\n",
              "  </thead>\n",
              "  <tbody>\n",
              "    <tr>\n",
              "      <th>0</th>\n",
              "      <td>Wow... Loved this place.</td>\n",
              "      <td>1.0</td>\n",
              "    </tr>\n",
              "    <tr>\n",
              "      <th>1</th>\n",
              "      <td>I learned that if an electric slicer is used t...</td>\n",
              "      <td>NaN</td>\n",
              "    </tr>\n",
              "    <tr>\n",
              "      <th>2</th>\n",
              "      <td>But they don't clean the chiles?</td>\n",
              "      <td>NaN</td>\n",
              "    </tr>\n",
              "    <tr>\n",
              "      <th>3</th>\n",
              "      <td>Crust is not good.</td>\n",
              "      <td>0.0</td>\n",
              "    </tr>\n",
              "    <tr>\n",
              "      <th>4</th>\n",
              "      <td>Not tasty and the texture was just nasty.</td>\n",
              "      <td>0.0</td>\n",
              "    </tr>\n",
              "  </tbody>\n",
              "</table>\n",
              "</div>"
            ],
            "text/plain": [
              "                                              Review  Sentiment\n",
              "0                           Wow... Loved this place.        1.0\n",
              "1  I learned that if an electric slicer is used t...        NaN\n",
              "2                   But they don't clean the chiles?        NaN\n",
              "3                                 Crust is not good.        0.0\n",
              "4          Not tasty and the texture was just nasty.        0.0"
            ]
          },
          "metadata": {
            "tags": []
          },
          "execution_count": 1
        }
      ]
    },
    {
      "cell_type": "code",
      "metadata": {
        "id": "Wlj6GVh69xhU",
        "outputId": "21f92396-49a7-405f-b409-0bcaf099ceaa",
        "colab": {
          "base_uri": "https://localhost:8080/"
        }
      },
      "source": [
        "user_resturant_reviews.shape"
      ],
      "execution_count": 2,
      "outputs": [
        {
          "output_type": "execute_result",
          "data": {
            "text/plain": [
              "(3729, 2)"
            ]
          },
          "metadata": {
            "tags": []
          },
          "execution_count": 2
        }
      ]
    },
    {
      "cell_type": "code",
      "metadata": {
        "id": "45FgTR5k90Rz",
        "outputId": "fe15ff46-495d-4ac5-8fa8-49ebe3b66ef1",
        "colab": {
          "base_uri": "https://localhost:8080/"
        }
      },
      "source": [
        "review1 = user_resturant_reviews['Review'][0]\r\n",
        "print(review1)"
      ],
      "execution_count": 3,
      "outputs": [
        {
          "output_type": "stream",
          "text": [
            "Wow... Loved this place.\n"
          ],
          "name": "stdout"
        }
      ]
    },
    {
      "cell_type": "code",
      "metadata": {
        "id": "OrFXPtV5-PJq",
        "outputId": "e406003c-f89e-45c5-ad29-0a9ba429519c",
        "colab": {
          "base_uri": "https://localhost:8080/"
        }
      },
      "source": [
        "import nltk\r\n",
        "nltk.download('punkt')\r\n",
        "nltk.download('stopwords')\r\n",
        "from nltk.tokenize import sent_tokenize, word_tokenize "
      ],
      "execution_count": 12,
      "outputs": [
        {
          "output_type": "stream",
          "text": [
            "[nltk_data] Downloading package punkt to /root/nltk_data...\n",
            "[nltk_data]   Package punkt is already up-to-date!\n",
            "[nltk_data] Downloading package stopwords to /root/nltk_data...\n",
            "[nltk_data]   Unzipping corpora/stopwords.zip.\n"
          ],
          "name": "stdout"
        }
      ]
    },
    {
      "cell_type": "code",
      "metadata": {
        "id": "veqa5VT1-bCq",
        "outputId": "699e10b9-b06e-47ac-da0c-1b7e8cb97cc8",
        "colab": {
          "base_uri": "https://localhost:8080/"
        }
      },
      "source": [
        "sentences_tokens = sent_tokenize(review1)\r\n",
        "print(sentences_tokens)"
      ],
      "execution_count": 7,
      "outputs": [
        {
          "output_type": "stream",
          "text": [
            "['Wow...', 'Loved this place.']\n"
          ],
          "name": "stdout"
        }
      ]
    },
    {
      "cell_type": "code",
      "metadata": {
        "id": "9ih1exW--6Nr",
        "outputId": "aac42cb7-dcc5-4b11-8b66-dfa67c386014",
        "colab": {
          "base_uri": "https://localhost:8080/"
        }
      },
      "source": [
        "words_tokens = word_tokenize(review1)\r\n",
        "print(words_tokens)"
      ],
      "execution_count": 15,
      "outputs": [
        {
          "output_type": "stream",
          "text": [
            "['Wow', '...', 'Loved', 'this', 'place', '.']\n"
          ],
          "name": "stdout"
        }
      ]
    },
    {
      "cell_type": "code",
      "metadata": {
        "id": "M-2jic5C_gVE"
      },
      "source": [
        "from nltk.corpus import stopwords"
      ],
      "execution_count": 10,
      "outputs": []
    },
    {
      "cell_type": "code",
      "metadata": {
        "id": "O6qVf5o2_pHp",
        "outputId": "af05f4be-efd6-45cd-aacf-90273cbb8b7a",
        "colab": {
          "base_uri": "https://localhost:8080/"
        }
      },
      "source": [
        "stop_words = set(stopwords.words('english'))\r\n",
        "stop_words.update([\".\", \"...\", \",\", \"[\", \"]\", \"(\", \")\"])\r\n",
        "print(len(stop_words))\r\n",
        "print(stop_words)"
      ],
      "execution_count": 19,
      "outputs": [
        {
          "output_type": "stream",
          "text": [
            "186\n",
            "{\"weren't\", 'am', \"mightn't\", 'they', 'was', 'ourselves', 'below', 'out', 'don', 'such', 'i', 'itself', 'than', 'down', 'our', 'until', 'isn', 'yourself', \"that'll\", 'not', 'd', 'in', 'whom', ')', 'she', 'do', 'just', 'have', \"wouldn't\", ',', \"haven't\", 'hadn', \"it's\", \"won't\", 'myself', 'when', 'more', 'up', 'or', 'on', 'the', 'some', 'as', 'that', 'into', \"should've\", \"couldn't\", \"didn't\", 'same', 'haven', 'off', 'while', 'wouldn', 'there', 'did', \"you're\", 'you', 'an', 'weren', \"shan't\", \"aren't\", 'further', 'by', 'y', \"you've\", 'is', 'how', 're', 'ours', 'nor', ']', 'needn', 'be', 'to', 'against', 'both', 'now', 'before', \"hasn't\", '.', 'wasn', 'were', 'of', 'between', 'he', 'herself', 'own', '[', 'again', 'didn', 'it', \"you'd\", 'each', 'does', 'hers', \"mustn't\", 'why', 'over', 'can', \"shouldn't\", 'very', 'so', 'had', 'being', '...', 'him', 'which', 'no', 'having', 'after', 'shouldn', 'will', 'all', 'here', 'where', 'because', 'mightn', 'my', 'been', 'couldn', 'other', 'about', 'few', 'we', 'those', 'your', 'them', 'under', 'shan', 'should', 'who', 'aren', 'm', 'her', 'what', 'if', 'any', 'a', 'at', \"you'll\", \"she's\", 'doing', 'with', 'but', \"needn't\", 'from', \"don't\", 'through', 't', 'for', 'his', 'most', 'll', \"doesn't\", \"isn't\", 'then', 'too', \"hadn't\", 'himself', 'hasn', 'won', \"wasn't\", 'doesn', 'theirs', 'themselves', 've', 'during', 'only', 'mustn', 'yours', 'me', 'yourselves', 'these', 's', 'and', 'this', 'their', '(', 'ain', 'its', 'above', 'has', 'once', 'are', 'ma', 'o'}\n"
          ],
          "name": "stdout"
        }
      ]
    },
    {
      "cell_type": "code",
      "metadata": {
        "id": "Mqnv87h4AE_p",
        "outputId": "822272f1-e7fe-46ac-e866-640594b56a4b",
        "colab": {
          "base_uri": "https://localhost:8080/"
        }
      },
      "source": [
        "filtered_word_tokens = [word for word in words_tokens if not word in stop_words]\r\n",
        "print(filtered_word_tokens)"
      ],
      "execution_count": 20,
      "outputs": [
        {
          "output_type": "stream",
          "text": [
            "['Wow', 'Loved', 'place']\n"
          ],
          "name": "stdout"
        }
      ]
    },
    {
      "cell_type": "code",
      "metadata": {
        "id": "2C6aWbLABuz3",
        "outputId": "32380c9f-1254-4c88-8b2d-7f0f68cd7602",
        "colab": {
          "base_uri": "https://localhost:8080/"
        }
      },
      "source": [
        "review2 = user_resturant_reviews['Review'][1]\r\n",
        "print(review2)"
      ],
      "execution_count": 21,
      "outputs": [
        {
          "output_type": "stream",
          "text": [
            "I learned that if an electric slicer is used the blade becomes hot enough to start to cook the prosciutto.\n"
          ],
          "name": "stdout"
        }
      ]
    },
    {
      "cell_type": "code",
      "metadata": {
        "id": "Rax2ZOQFB3KW"
      },
      "source": [
        "from nltk.stem import PorterStemmer\r\n",
        "stemer = PorterStemmer()"
      ],
      "execution_count": 22,
      "outputs": []
    },
    {
      "cell_type": "code",
      "metadata": {
        "id": "S5m6AVDcCAr6",
        "outputId": "bcf92096-8ee8-4831-e6e0-d0eb6f1973ef",
        "colab": {
          "base_uri": "https://localhost:8080/"
        }
      },
      "source": [
        "words_tokens_2 = word_tokenize(review2)\r\n",
        "print(words_tokens_2)"
      ],
      "execution_count": 23,
      "outputs": [
        {
          "output_type": "stream",
          "text": [
            "['I', 'learned', 'that', 'if', 'an', 'electric', 'slicer', 'is', 'used', 'the', 'blade', 'becomes', 'hot', 'enough', 'to', 'start', 'to', 'cook', 'the', 'prosciutto', '.']\n"
          ],
          "name": "stdout"
        }
      ]
    },
    {
      "cell_type": "code",
      "metadata": {
        "id": "Zkgan-npCP72",
        "outputId": "3500f343-06d4-469b-9ef5-a7a3b6c7699f",
        "colab": {
          "base_uri": "https://localhost:8080/"
        }
      },
      "source": [
        "filtered_word_tokens_2 = [word for word in words_tokens_2 if not word in stop_words]\r\n",
        "print(filtered_word_tokens_2)"
      ],
      "execution_count": 24,
      "outputs": [
        {
          "output_type": "stream",
          "text": [
            "['I', 'learned', 'electric', 'slicer', 'used', 'blade', 'becomes', 'hot', 'enough', 'start', 'cook', 'prosciutto']\n"
          ],
          "name": "stdout"
        }
      ]
    },
    {
      "cell_type": "code",
      "metadata": {
        "id": "oSdQ83BYCZUN"
      },
      "source": [
        ""
      ],
      "execution_count": null,
      "outputs": []
    }
  ]
}