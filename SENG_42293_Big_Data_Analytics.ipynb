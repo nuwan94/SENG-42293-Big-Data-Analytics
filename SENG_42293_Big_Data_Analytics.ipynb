{
  "nbformat": 4,
  "nbformat_minor": 0,
  "metadata": {
    "colab": {
      "name": "SENG 42293 - Big Data Analytics",
      "provenance": [],
      "toc_visible": true,
      "authorship_tag": "ABX9TyMIFfivPA7aJ6AjHoWtBIcf",
      "include_colab_link": true
    },
    "kernelspec": {
      "name": "python3",
      "display_name": "Python 3"
    }
  },
  "cells": [
    {
      "cell_type": "markdown",
      "metadata": {
        "id": "view-in-github",
        "colab_type": "text"
      },
      "source": [
        "<a href=\"https://colab.research.google.com/github/nuwan94/SENG-42293-Big-Data-Analytics/blob/main/SENG_42293_Big_Data_Analytics.ipynb\" target=\"_parent\"><img src=\"https://colab.research.google.com/assets/colab-badge.svg\" alt=\"Open In Colab\"/></a>"
      ]
    },
    {
      "cell_type": "code",
      "metadata": {
        "id": "cvF4hm_My-D1"
      },
      "source": [
        "import pandas as pd\r\n",
        "\r\n",
        "user_resturant_reviews = pd.read_csv('User_restaurants_reviews.csv')\r\n",
        "user_resturant_reviews.head()"
      ],
      "execution_count": null,
      "outputs": []
    },
    {
      "cell_type": "code",
      "metadata": {
        "id": "Wlj6GVh69xhU"
      },
      "source": [
        "user_resturant_reviews.shape"
      ],
      "execution_count": null,
      "outputs": []
    },
    {
      "cell_type": "code",
      "metadata": {
        "id": "45FgTR5k90Rz"
      },
      "source": [
        "review1 = user_resturant_reviews['Review'][0]\r\n",
        "print(review1)"
      ],
      "execution_count": null,
      "outputs": []
    },
    {
      "cell_type": "code",
      "metadata": {
        "id": "OrFXPtV5-PJq"
      },
      "source": [
        "import nltk\r\n",
        "nltk.download('punkt')\r\n",
        "nltk.download('stopwords')\r\n",
        "nltk.download('wordnet')\r\n",
        "from nltk.tokenize import sent_tokenize, word_tokenize "
      ],
      "execution_count": null,
      "outputs": []
    },
    {
      "cell_type": "code",
      "metadata": {
        "id": "veqa5VT1-bCq"
      },
      "source": [
        "sentences_tokens = sent_tokenize(review1)\r\n",
        "print(sentences_tokens)"
      ],
      "execution_count": null,
      "outputs": []
    },
    {
      "cell_type": "code",
      "metadata": {
        "id": "9ih1exW--6Nr"
      },
      "source": [
        "words_tokens = word_tokenize(review1)\r\n",
        "print(words_tokens)"
      ],
      "execution_count": null,
      "outputs": []
    },
    {
      "cell_type": "code",
      "metadata": {
        "id": "M-2jic5C_gVE"
      },
      "source": [
        "from nltk.corpus import stopwords"
      ],
      "execution_count": null,
      "outputs": []
    },
    {
      "cell_type": "code",
      "metadata": {
        "id": "O6qVf5o2_pHp"
      },
      "source": [
        "stop_words = set(stopwords.words('english'))\r\n",
        "stop_words.update([\".\", \"...\", \",\", \"[\", \"]\", \"(\", \")\"])\r\n",
        "print(len(stop_words))\r\n",
        "print(stop_words)"
      ],
      "execution_count": null,
      "outputs": []
    },
    {
      "cell_type": "code",
      "metadata": {
        "id": "Mqnv87h4AE_p"
      },
      "source": [
        "filtered_word_tokens = [word for word in words_tokens if not word in stop_words]\r\n",
        "print(filtered_word_tokens)"
      ],
      "execution_count": null,
      "outputs": []
    },
    {
      "cell_type": "code",
      "metadata": {
        "id": "2C6aWbLABuz3"
      },
      "source": [
        "review2 = user_resturant_reviews['Review'][1]\r\n",
        "print(review2)"
      ],
      "execution_count": null,
      "outputs": []
    },
    {
      "cell_type": "code",
      "metadata": {
        "id": "Rax2ZOQFB3KW"
      },
      "source": [
        "from nltk.stem import PorterStemmer\r\n",
        "stemmer = PorterStemmer()"
      ],
      "execution_count": null,
      "outputs": []
    },
    {
      "cell_type": "code",
      "metadata": {
        "id": "S5m6AVDcCAr6"
      },
      "source": [
        "words_tokens_2 = word_tokenize(review2)\r\n",
        "print(words_tokens_2)"
      ],
      "execution_count": null,
      "outputs": []
    },
    {
      "cell_type": "code",
      "metadata": {
        "id": "Zkgan-npCP72"
      },
      "source": [
        "filtered_word_tokens_2 = [word for word in words_tokens_2 if not word in stop_words]\r\n",
        "print(filtered_word_tokens_2)"
      ],
      "execution_count": null,
      "outputs": []
    },
    {
      "cell_type": "code",
      "metadata": {
        "id": "oSdQ83BYCZUN"
      },
      "source": [
        "review2_tokens_stem = [stemmer.stem(word) for word in filtered_word_tokens_2]\r\n",
        "print(review2_tokens_stem)"
      ],
      "execution_count": null,
      "outputs": []
    },
    {
      "cell_type": "code",
      "metadata": {
        "id": "6HE3hzJ_DTm0"
      },
      "source": [
        "from nltk.stem import WordNetLemmatizer\r\n",
        "lemmatizer = WordNetLemmatizer()"
      ],
      "execution_count": null,
      "outputs": []
    },
    {
      "cell_type": "code",
      "metadata": {
        "id": "tY43WTqnDXv3"
      },
      "source": [
        "review2_tokens_lem = [lemmatizer.lemmatize(word, 'v') for word in filtered_word_tokens_2]\r\n",
        "print(review2_tokens_lem)"
      ],
      "execution_count": null,
      "outputs": []
    },
    {
      "cell_type": "code",
      "metadata": {
        "id": "usWq3HBsEFK4"
      },
      "source": [
        "review23 = user_resturant_reviews['Review'][22]"
      ],
      "execution_count": null,
      "outputs": []
    },
    {
      "cell_type": "code",
      "metadata": {
        "id": "etesN8wIEa-L"
      },
      "source": [
        "import re"
      ],
      "execution_count": null,
      "outputs": []
    },
    {
      "cell_type": "code",
      "metadata": {
        "id": "grvPpY-lEcmy"
      },
      "source": [
        "review23_clensed = re.sub(r'\\W+|\\d+|_', ' ', review23)\r\n",
        "print(review23_clensed)"
      ],
      "execution_count": null,
      "outputs": []
    },
    {
      "cell_type": "code",
      "metadata": {
        "id": "iIAce1Y8FKNS"
      },
      "source": [
        "from sklearn.feature_extraction.text import CountVectorizer\r\n",
        "countVector = CountVectorizer()"
      ],
      "execution_count": null,
      "outputs": []
    },
    {
      "cell_type": "code",
      "metadata": {
        "id": "pnwhpwI9Fb6q"
      },
      "source": [
        "dtm = pd.DataFrame(countVector.fit_transform(user_resturant_reviews['Review']).toarray(), columns = countVector.get_feature_names(), index =None)\r\n",
        "dtm.head()"
      ],
      "execution_count": null,
      "outputs": []
    }
  ]
}