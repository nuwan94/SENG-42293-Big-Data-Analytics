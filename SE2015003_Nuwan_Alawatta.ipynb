{
  "nbformat": 4,
  "nbformat_minor": 0,
  "metadata": {
    "colab": {
      "name": "SE2015003- Nuwan Alawatta.ipynb",
      "provenance": [],
      "collapsed_sections": [],
      "authorship_tag": "ABX9TyMFTuDbueizI3TD3GYEhv1H",
      "include_colab_link": true
    },
    "kernelspec": {
      "name": "python3",
      "display_name": "Python 3"
    }
  },
  "cells": [
    {
      "cell_type": "markdown",
      "metadata": {
        "id": "view-in-github",
        "colab_type": "text"
      },
      "source": [
        "<a href=\"https://colab.research.google.com/github/nuwan94/SENG-42293-Big-Data-Analytics/blob/main/SE2015003_Nuwan_Alawatta.ipynb\" target=\"_parent\"><img src=\"https://colab.research.google.com/assets/colab-badge.svg\" alt=\"Open In Colab\"/></a>"
      ]
    },
    {
      "cell_type": "code",
      "metadata": {
        "id": "iUiMFPFtq54w"
      },
      "source": [
        "# Student ID: SE2015003\r\n",
        "# Student Name: Nuwan Alawatta"
      ],
      "execution_count": 1,
      "outputs": []
    },
    {
      "cell_type": "markdown",
      "metadata": {
        "id": "XZMUMZWvsTlN"
      },
      "source": [
        "Let's import the exercise dataset using `pandas` library.\r\n",
        "\r\n",
        "We can use `head()` function in the pandas to print out first few rows."
      ]
    },
    {
      "cell_type": "code",
      "metadata": {
        "colab": {
          "base_uri": "https://localhost:8080/",
          "height": 359
        },
        "id": "vs4BMXBEnfD1",
        "outputId": "cc36ef98-8887-48a5-d6e6-3a888fcc4fcd"
      },
      "source": [
        "import pandas as pd\r\n",
        "exercise_data = pd.read_csv('exercise.csv')\r\n",
        "exercise_data.head(10)"
      ],
      "execution_count": 2,
      "outputs": [
        {
          "output_type": "execute_result",
          "data": {
            "text/html": [
              "<div>\n",
              "<style scoped>\n",
              "    .dataframe tbody tr th:only-of-type {\n",
              "        vertical-align: middle;\n",
              "    }\n",
              "\n",
              "    .dataframe tbody tr th {\n",
              "        vertical-align: top;\n",
              "    }\n",
              "\n",
              "    .dataframe thead th {\n",
              "        text-align: right;\n",
              "    }\n",
              "</style>\n",
              "<table border=\"1\" class=\"dataframe\">\n",
              "  <thead>\n",
              "    <tr style=\"text-align: right;\">\n",
              "      <th></th>\n",
              "      <th>User_ID</th>\n",
              "      <th>Gender</th>\n",
              "      <th>Age</th>\n",
              "      <th>Height</th>\n",
              "      <th>Weight</th>\n",
              "      <th>Duration</th>\n",
              "      <th>Heart_Rate</th>\n",
              "      <th>Body_Temp</th>\n",
              "      <th>Calories</th>\n",
              "    </tr>\n",
              "  </thead>\n",
              "  <tbody>\n",
              "    <tr>\n",
              "      <th>0</th>\n",
              "      <td>14733363</td>\n",
              "      <td>male</td>\n",
              "      <td>68</td>\n",
              "      <td>190</td>\n",
              "      <td>94</td>\n",
              "      <td>29</td>\n",
              "      <td>105</td>\n",
              "      <td>40.8</td>\n",
              "      <td>231</td>\n",
              "    </tr>\n",
              "    <tr>\n",
              "      <th>1</th>\n",
              "      <td>14861698</td>\n",
              "      <td>female</td>\n",
              "      <td>20</td>\n",
              "      <td>166</td>\n",
              "      <td>60</td>\n",
              "      <td>14</td>\n",
              "      <td>94</td>\n",
              "      <td>40.3</td>\n",
              "      <td>66</td>\n",
              "    </tr>\n",
              "    <tr>\n",
              "      <th>2</th>\n",
              "      <td>11179863</td>\n",
              "      <td>male</td>\n",
              "      <td>69</td>\n",
              "      <td>179</td>\n",
              "      <td>79</td>\n",
              "      <td>5</td>\n",
              "      <td>88</td>\n",
              "      <td>38.7</td>\n",
              "      <td>26</td>\n",
              "    </tr>\n",
              "    <tr>\n",
              "      <th>3</th>\n",
              "      <td>16180408</td>\n",
              "      <td>female</td>\n",
              "      <td>34</td>\n",
              "      <td>179</td>\n",
              "      <td>71</td>\n",
              "      <td>13</td>\n",
              "      <td>100</td>\n",
              "      <td>40.5</td>\n",
              "      <td>71</td>\n",
              "    </tr>\n",
              "    <tr>\n",
              "      <th>4</th>\n",
              "      <td>17771927</td>\n",
              "      <td>female</td>\n",
              "      <td>27</td>\n",
              "      <td>154</td>\n",
              "      <td>58</td>\n",
              "      <td>10</td>\n",
              "      <td>81</td>\n",
              "      <td>39.8</td>\n",
              "      <td>35</td>\n",
              "    </tr>\n",
              "    <tr>\n",
              "      <th>5</th>\n",
              "      <td>15130815</td>\n",
              "      <td>female</td>\n",
              "      <td>36</td>\n",
              "      <td>151</td>\n",
              "      <td>50</td>\n",
              "      <td>23</td>\n",
              "      <td>96</td>\n",
              "      <td>40.7</td>\n",
              "      <td>123</td>\n",
              "    </tr>\n",
              "    <tr>\n",
              "      <th>6</th>\n",
              "      <td>19602372</td>\n",
              "      <td>female</td>\n",
              "      <td>33</td>\n",
              "      <td>158</td>\n",
              "      <td>56</td>\n",
              "      <td>22</td>\n",
              "      <td>95</td>\n",
              "      <td>40.5</td>\n",
              "      <td>112</td>\n",
              "    </tr>\n",
              "    <tr>\n",
              "      <th>7</th>\n",
              "      <td>11117088</td>\n",
              "      <td>male</td>\n",
              "      <td>41</td>\n",
              "      <td>175</td>\n",
              "      <td>85</td>\n",
              "      <td>25</td>\n",
              "      <td>100</td>\n",
              "      <td>40.7</td>\n",
              "      <td>143</td>\n",
              "    </tr>\n",
              "    <tr>\n",
              "      <th>8</th>\n",
              "      <td>12132339</td>\n",
              "      <td>male</td>\n",
              "      <td>60</td>\n",
              "      <td>186</td>\n",
              "      <td>94</td>\n",
              "      <td>21</td>\n",
              "      <td>97</td>\n",
              "      <td>40.4</td>\n",
              "      <td>134</td>\n",
              "    </tr>\n",
              "    <tr>\n",
              "      <th>9</th>\n",
              "      <td>17964668</td>\n",
              "      <td>female</td>\n",
              "      <td>26</td>\n",
              "      <td>146</td>\n",
              "      <td>51</td>\n",
              "      <td>16</td>\n",
              "      <td>90</td>\n",
              "      <td>40.2</td>\n",
              "      <td>72</td>\n",
              "    </tr>\n",
              "  </tbody>\n",
              "</table>\n",
              "</div>"
            ],
            "text/plain": [
              "    User_ID  Gender  Age  Height  ...  Duration  Heart_Rate  Body_Temp  Calories\n",
              "0  14733363    male   68     190  ...        29         105       40.8       231\n",
              "1  14861698  female   20     166  ...        14          94       40.3        66\n",
              "2  11179863    male   69     179  ...         5          88       38.7        26\n",
              "3  16180408  female   34     179  ...        13         100       40.5        71\n",
              "4  17771927  female   27     154  ...        10          81       39.8        35\n",
              "5  15130815  female   36     151  ...        23          96       40.7       123\n",
              "6  19602372  female   33     158  ...        22          95       40.5       112\n",
              "7  11117088    male   41     175  ...        25         100       40.7       143\n",
              "8  12132339    male   60     186  ...        21          97       40.4       134\n",
              "9  17964668  female   26     146  ...        16          90       40.2        72\n",
              "\n",
              "[10 rows x 9 columns]"
            ]
          },
          "metadata": {
            "tags": []
          },
          "execution_count": 2
        }
      ]
    },
    {
      "cell_type": "markdown",
      "metadata": {
        "id": "aIZ6LS1ouaNA"
      },
      "source": [
        "## Task 1\r\n",
        "\r\n",
        "Let's analyze gatherd `exercise_data` for get an idea about the pre-processing requirments.\r\n",
        "\r\n",
        "Using `dtypes` is pandas data frame object we can get idea about **data types** of each column."
      ]
    },
    {
      "cell_type": "code",
      "metadata": {
        "colab": {
          "base_uri": "https://localhost:8080/"
        },
        "id": "srFoFJS0uZ6H",
        "outputId": "be290c07-f42d-4b88-dff1-87480112b75b"
      },
      "source": [
        "exercise_data.dtypes"
      ],
      "execution_count": 3,
      "outputs": [
        {
          "output_type": "execute_result",
          "data": {
            "text/plain": [
              "User_ID         int64\n",
              "Gender         object\n",
              "Age             int64\n",
              "Height          int64\n",
              "Weight          int64\n",
              "Duration        int64\n",
              "Heart_Rate      int64\n",
              "Body_Temp     float64\n",
              "Calories        int64\n",
              "dtype: object"
            ]
          },
          "metadata": {
            "tags": []
          },
          "execution_count": 3
        }
      ]
    },
    {
      "cell_type": "markdown",
      "metadata": {
        "id": "xlJkg7OJ6lr4"
      },
      "source": [
        "Above resutls shows only **Gender** column has non-numeric values.\r\n",
        "\r\n",
        "After checking the data types we can check wheter there is `NULL` values in any column using following code."
      ]
    },
    {
      "cell_type": "code",
      "metadata": {
        "colab": {
          "base_uri": "https://localhost:8080/"
        },
        "id": "36Lusvei6IIx",
        "outputId": "ee8cf342-2a6c-4a41-d28a-218db2602637"
      },
      "source": [
        "exercise_data.isnull().sum()"
      ],
      "execution_count": 4,
      "outputs": [
        {
          "output_type": "execute_result",
          "data": {
            "text/plain": [
              "User_ID       0\n",
              "Gender        0\n",
              "Age           0\n",
              "Height        0\n",
              "Weight        0\n",
              "Duration      0\n",
              "Heart_Rate    0\n",
              "Body_Temp     0\n",
              "Calories      0\n",
              "dtype: int64"
            ]
          },
          "metadata": {
            "tags": []
          },
          "execution_count": 4
        }
      ]
    },
    {
      "cell_type": "markdown",
      "metadata": {
        "id": "P8CJwpMXDpRg"
      },
      "source": [
        "Since results is `0` for **all the columns** we can confirm there are no missing values in an column (Including **Gender** colum)\r\n",
        "\r\n",
        "Let's find further about the coulmns column using `describe()` and `value_counts` function to get idea about the value types contain."
      ]
    },
    {
      "cell_type": "code",
      "metadata": {
        "colab": {
          "base_uri": "https://localhost:8080/"
        },
        "id": "R2RDmamEDpd6",
        "outputId": "8a894be5-a5d3-413c-f284-ab240895119e"
      },
      "source": [
        "exercise_data['Gender'].value_counts()"
      ],
      "execution_count": 5,
      "outputs": [
        {
          "output_type": "execute_result",
          "data": {
            "text/plain": [
              "female    7553\n",
              "male      7447\n",
              "Name: Gender, dtype: int64"
            ]
          },
          "metadata": {
            "tags": []
          },
          "execution_count": 5
        }
      ]
    },
    {
      "cell_type": "code",
      "metadata": {
        "colab": {
          "base_uri": "https://localhost:8080/"
        },
        "id": "v_eOoLxMZDIj",
        "outputId": "690a6332-5aee-455f-f482-e338d6c22d80"
      },
      "source": [
        "exercise_data['Age'].describe()"
      ],
      "execution_count": 6,
      "outputs": [
        {
          "output_type": "execute_result",
          "data": {
            "text/plain": [
              "count    15000.000000\n",
              "mean        42.789800\n",
              "std         16.980264\n",
              "min         20.000000\n",
              "25%         28.000000\n",
              "50%         39.000000\n",
              "75%         56.000000\n",
              "max         79.000000\n",
              "Name: Age, dtype: float64"
            ]
          },
          "metadata": {
            "tags": []
          },
          "execution_count": 6
        }
      ]
    },
    {
      "cell_type": "code",
      "metadata": {
        "colab": {
          "base_uri": "https://localhost:8080/"
        },
        "id": "b6cO7LE3ZHgz",
        "outputId": "38616cd8-5343-4291-c7a0-a52598a00194"
      },
      "source": [
        "exercise_data['Height'].describe()"
      ],
      "execution_count": 7,
      "outputs": [
        {
          "output_type": "execute_result",
          "data": {
            "text/plain": [
              "count    15000.000000\n",
              "mean       174.465133\n",
              "std         14.258114\n",
              "min        123.000000\n",
              "25%        164.000000\n",
              "50%        175.000000\n",
              "75%        185.000000\n",
              "max        222.000000\n",
              "Name: Height, dtype: float64"
            ]
          },
          "metadata": {
            "tags": []
          },
          "execution_count": 7
        }
      ]
    },
    {
      "cell_type": "code",
      "metadata": {
        "colab": {
          "base_uri": "https://localhost:8080/"
        },
        "id": "JpeR-kQRZNfy",
        "outputId": "777b3d84-9156-4e29-b593-0bb8ef8c7fb9"
      },
      "source": [
        "exercise_data['Weight'].describe()"
      ],
      "execution_count": 8,
      "outputs": [
        {
          "output_type": "execute_result",
          "data": {
            "text/plain": [
              "count    15000.000000\n",
              "mean        74.966867\n",
              "std         15.035657\n",
              "min         36.000000\n",
              "25%         63.000000\n",
              "50%         74.000000\n",
              "75%         87.000000\n",
              "max        132.000000\n",
              "Name: Weight, dtype: float64"
            ]
          },
          "metadata": {
            "tags": []
          },
          "execution_count": 8
        }
      ]
    },
    {
      "cell_type": "code",
      "metadata": {
        "colab": {
          "base_uri": "https://localhost:8080/"
        },
        "id": "D3b4Fn1bZRB8",
        "outputId": "2c1c5193-069a-4b17-c8f8-6cc2f05fab6f"
      },
      "source": [
        "exercise_data['Duration'].describe()"
      ],
      "execution_count": 9,
      "outputs": [
        {
          "output_type": "execute_result",
          "data": {
            "text/plain": [
              "count    15000.000000\n",
              "mean        15.530600\n",
              "std          8.319203\n",
              "min          1.000000\n",
              "25%          8.000000\n",
              "50%         16.000000\n",
              "75%         23.000000\n",
              "max         30.000000\n",
              "Name: Duration, dtype: float64"
            ]
          },
          "metadata": {
            "tags": []
          },
          "execution_count": 9
        }
      ]
    },
    {
      "cell_type": "code",
      "metadata": {
        "colab": {
          "base_uri": "https://localhost:8080/"
        },
        "id": "AXkrYGy4ZQ8a",
        "outputId": "0ae536c2-26b2-4765-bd2e-f78e929a535d"
      },
      "source": [
        "exercise_data['Heart_Rate'].describe()"
      ],
      "execution_count": 10,
      "outputs": [
        {
          "output_type": "execute_result",
          "data": {
            "text/plain": [
              "count    15000.000000\n",
              "mean        95.518533\n",
              "std          9.583328\n",
              "min         67.000000\n",
              "25%         88.000000\n",
              "50%         96.000000\n",
              "75%        103.000000\n",
              "max        128.000000\n",
              "Name: Heart_Rate, dtype: float64"
            ]
          },
          "metadata": {
            "tags": []
          },
          "execution_count": 10
        }
      ]
    },
    {
      "cell_type": "code",
      "metadata": {
        "colab": {
          "base_uri": "https://localhost:8080/"
        },
        "id": "rxCso--cZQ00",
        "outputId": "470f8ef4-02a9-43a5-d997-eaaab61d4183"
      },
      "source": [
        "exercise_data['Body_Temp'].describe()"
      ],
      "execution_count": 11,
      "outputs": [
        {
          "output_type": "execute_result",
          "data": {
            "text/plain": [
              "count    15000.000000\n",
              "mean        40.025453\n",
              "std          0.779230\n",
              "min         37.100000\n",
              "25%         39.600000\n",
              "50%         40.200000\n",
              "75%         40.600000\n",
              "max         41.500000\n",
              "Name: Body_Temp, dtype: float64"
            ]
          },
          "metadata": {
            "tags": []
          },
          "execution_count": 11
        }
      ]
    },
    {
      "cell_type": "code",
      "metadata": {
        "colab": {
          "base_uri": "https://localhost:8080/"
        },
        "id": "fJdKD4-_ZQsT",
        "outputId": "619000c1-da7c-4e41-9de1-50086e47b81a"
      },
      "source": [
        "exercise_data['Calories'].describe()"
      ],
      "execution_count": 12,
      "outputs": [
        {
          "output_type": "execute_result",
          "data": {
            "text/plain": [
              "count    15000.000000\n",
              "mean        89.539533\n",
              "std         62.456978\n",
              "min          1.000000\n",
              "25%         35.000000\n",
              "50%         79.000000\n",
              "75%        138.000000\n",
              "max        314.000000\n",
              "Name: Calories, dtype: float64"
            ]
          },
          "metadata": {
            "tags": []
          },
          "execution_count": 12
        }
      ]
    },
    {
      "cell_type": "markdown",
      "metadata": {
        "id": "SCv7-Ze360mg"
      },
      "source": [
        "As next step we can find the correlation between the data. For clearly have a idea about these correlation, lets use `matplotlib` library for draw graphs.\r\n",
        "Using the `%matplotlib inline` option we can show the graph on notebook it self next to the particular code."
      ]
    },
    {
      "cell_type": "code",
      "metadata": {
        "id": "ZgMyfdSyAD-6"
      },
      "source": [
        "import matplotlib.pyplot as plt\r\n",
        "%matplotlib inline"
      ],
      "execution_count": 13,
      "outputs": []
    },
    {
      "cell_type": "code",
      "metadata": {
        "colab": {
          "base_uri": "https://localhost:8080/",
          "height": 312
        },
        "id": "eltTqaGq60Tg",
        "outputId": "b977cec8-faa9-462f-cd13-92d572007217"
      },
      "source": [
        "x = exercise_data['Duration']\r\n",
        "y = exercise_data['Calories']\r\n",
        "\r\n",
        "plt.title('Correlation between Calories and Duration')\r\n",
        "plt.xlabel('Duration')\r\n",
        "plt.ylabel('Calories')\r\n",
        "plt.scatter(x, y)"
      ],
      "execution_count": 14,
      "outputs": [
        {
          "output_type": "execute_result",
          "data": {
            "text/plain": [
              "<matplotlib.collections.PathCollection at 0x7f4c6d7eec88>"
            ]
          },
          "metadata": {
            "tags": []
          },
          "execution_count": 14
        },
        {
          "output_type": "display_data",
          "data": {
            "image/png": "[encoded data removed]",
            "text/plain": [
              "<Figure size 432x288 with 1 Axes>"
            ]
          },
          "metadata": {
            "tags": [],
            "needs_background": "light"
          }
        }
      ]
    },
    {
      "cell_type": "markdown",
      "metadata": {
        "id": "UiH-q24w6z_g"
      },
      "source": [
        "The above graphs confirms correlation between `Calories` and `Duration` is not perfectly non-linear and slightly curved.\r\n",
        "\r\n"
      ]
    },
    {
      "cell_type": "code",
      "metadata": {
        "colab": {
          "base_uri": "https://localhost:8080/",
          "height": 313
        },
        "id": "O5Q0G7RBE3Fz",
        "outputId": "8b9c421c-6c4d-4d41-a270-cb9def0a5736"
      },
      "source": [
        "x = exercise_data['Heart_Rate']\r\n",
        "y = exercise_data['Calories']\r\n",
        "\r\n",
        "plt.title('Correlation between Calories and Heart_Rate')\r\n",
        "plt.xlabel('Heart_Rate')\r\n",
        "plt.ylabel('Calories')\r\n",
        "plt.scatter(x, y)"
      ],
      "execution_count": 15,
      "outputs": [
        {
          "output_type": "execute_result",
          "data": {
            "text/plain": [
              "<matplotlib.collections.PathCollection at 0x7f4c6d2cf470>"
            ]
          },
          "metadata": {
            "tags": []
          },
          "execution_count": 15
        },
        {
          "output_type": "display_data",
          "data": {
            "image/png": "[encoded data removed]",
            "text/plain": [
              "<Figure size 432x288 with 1 Axes>"
            ]
          },
          "metadata": {
            "tags": [],
            "needs_background": "light"
          }
        }
      ]
    },
    {
      "cell_type": "markdown",
      "metadata": {
        "id": "HvTLcnS1Je2a"
      },
      "source": [
        "The above graphs confirms correlation between `Calories` and `Heart_Rate` is not perfectly non-linear and slightly curved."
      ]
    },
    {
      "cell_type": "markdown",
      "metadata": {
        "id": "oiNNV1HYNSFL"
      },
      "source": [
        "Next we can check the `Caleories` for possibiltiy of negative prediction due to it's current distribution. For that we can use `seaborn` (Python visualization library based on `matplotlib`) to draw a **Histogram** of the Calories values."
      ]
    },
    {
      "cell_type": "code",
      "metadata": {
        "colab": {
          "base_uri": "https://localhost:8080/",
          "height": 366
        },
        "id": "JCv3Uy4uH3Nk",
        "outputId": "91935ba5-a553-49d2-c7e5-e29169ac61f0"
      },
      "source": [
        "import seaborn as sns\r\n",
        "\r\n",
        "plt.title('Histogarm of Calories')\r\n",
        "plt.xlabel('Calories')\r\n",
        "plt.ylabel('Density')\r\n",
        "sns.distplot(exercise_data['Calories'])"
      ],
      "execution_count": 16,
      "outputs": [
        {
          "output_type": "stream",
          "text": [
            "/usr/local/lib/python3.6/dist-packages/seaborn/distributions.py:2551: FutureWarning: `distplot` is a deprecated function and will be removed in a future version. Please adapt your code to use either `displot` (a figure-level function with similar flexibility) or `histplot` (an axes-level function for histograms).\n",
            "  warnings.warn(msg, FutureWarning)\n"
          ],
          "name": "stderr"
        },
        {
          "output_type": "execute_result",
          "data": {
            "text/plain": [
              "<matplotlib.axes._subplots.AxesSubplot at 0x7f4c5f123f60>"
            ]
          },
          "metadata": {
            "tags": []
          },
          "execution_count": 16
        },
        {
          "output_type": "display_data",
          "data": {
            "image/png": "[encoded data removed]",
            "text/plain": [
              "<Figure size 432x288 with 1 Axes>"
            ]
          },
          "metadata": {
            "tags": [],
            "needs_background": "light"
          }
        }
      ]
    },
    {
      "cell_type": "markdown",
      "metadata": {
        "id": "YFfa7fa1OTaM"
      },
      "source": [
        "The above histoprgram suggest the current distibution contain **non-positive values**.\r\n"
      ]
    },
    {
      "cell_type": "markdown",
      "metadata": {
        "id": "8r5HVV6KDK8C"
      },
      "source": [
        "#### Conclusions\r\n",
        "\r\n",
        "* There are no **NaN** values in this dataset.\r\n",
        "* The Gender column need to convert to a **measurable** entity.\r\n",
        "* There is a non-linear correlation between `Calories` vs. `Heart_Rate` and  `Calories` vs. `Duration`\r\n",
        "* The `Calories` value may leads to predict negative."
      ]
    },
    {
      "cell_type": "markdown",
      "metadata": {
        "id": "U_wW_kAcuaiv"
      },
      "source": [
        "## Task 2\r\n",
        "\r\n",
        "In this section lets fix dataset and add new features to overcome the problems."
      ]
    },
    {
      "cell_type": "markdown",
      "metadata": {
        "id": "ib3Xe8h9RnBN"
      },
      "source": [
        "#### Make them measuarable\r\n",
        "\r\n",
        "In above we found that `Gender` is not measurable, to fix that we can assign numerical column for that. Since there is only `male` and `female` options, we can apply `1` for `male` and `0` for `female`."
      ]
    },
    {
      "cell_type": "code",
      "metadata": {
        "colab": {
          "base_uri": "https://localhost:8080/",
          "height": 359
        },
        "id": "9-BuqTqHRsUh",
        "outputId": "2effb96d-0961-466e-ebbf-0c9747e37b12"
      },
      "source": [
        "exercise_data = exercise_data.assign(Numeric_Gender = (exercise_data[ 'Gender' ] == 'male').astype(int))\r\n",
        "exercise_data.head(10)"
      ],
      "execution_count": 17,
      "outputs": [
        {
          "output_type": "execute_result",
          "data": {
            "text/html": [
              "<div>\n",
              "<style scoped>\n",
              "    .dataframe tbody tr th:only-of-type {\n",
              "        vertical-align: middle;\n",
              "    }\n",
              "\n",
              "    .dataframe tbody tr th {\n",
              "        vertical-align: top;\n",
              "    }\n",
              "\n",
              "    .dataframe thead th {\n",
              "        text-align: right;\n",
              "    }\n",
              "</style>\n",
              "<table border=\"1\" class=\"dataframe\">\n",
              "  <thead>\n",
              "    <tr style=\"text-align: right;\">\n",
              "      <th></th>\n",
              "      <th>User_ID</th>\n",
              "      <th>Gender</th>\n",
              "      <th>Age</th>\n",
              "      <th>Height</th>\n",
              "      <th>Weight</th>\n",
              "      <th>Duration</th>\n",
              "      <th>Heart_Rate</th>\n",
              "      <th>Body_Temp</th>\n",
              "      <th>Calories</th>\n",
              "      <th>Numeric_Gender</th>\n",
              "    </tr>\n",
              "  </thead>\n",
              "  <tbody>\n",
              "    <tr>\n",
              "      <th>0</th>\n",
              "      <td>14733363</td>\n",
              "      <td>male</td>\n",
              "      <td>68</td>\n",
              "      <td>190</td>\n",
              "      <td>94</td>\n",
              "      <td>29</td>\n",
              "      <td>105</td>\n",
              "      <td>40.8</td>\n",
              "      <td>231</td>\n",
              "      <td>1</td>\n",
              "    </tr>\n",
              "    <tr>\n",
              "      <th>1</th>\n",
              "      <td>14861698</td>\n",
              "      <td>female</td>\n",
              "      <td>20</td>\n",
              "      <td>166</td>\n",
              "      <td>60</td>\n",
              "      <td>14</td>\n",
              "      <td>94</td>\n",
              "      <td>40.3</td>\n",
              "      <td>66</td>\n",
              "      <td>0</td>\n",
              "    </tr>\n",
              "    <tr>\n",
              "      <th>2</th>\n",
              "      <td>11179863</td>\n",
              "      <td>male</td>\n",
              "      <td>69</td>\n",
              "      <td>179</td>\n",
              "      <td>79</td>\n",
              "      <td>5</td>\n",
              "      <td>88</td>\n",
              "      <td>38.7</td>\n",
              "      <td>26</td>\n",
              "      <td>1</td>\n",
              "    </tr>\n",
              "    <tr>\n",
              "      <th>3</th>\n",
              "      <td>16180408</td>\n",
              "      <td>female</td>\n",
              "      <td>34</td>\n",
              "      <td>179</td>\n",
              "      <td>71</td>\n",
              "      <td>13</td>\n",
              "      <td>100</td>\n",
              "      <td>40.5</td>\n",
              "      <td>71</td>\n",
              "      <td>0</td>\n",
              "    </tr>\n",
              "    <tr>\n",
              "      <th>4</th>\n",
              "      <td>17771927</td>\n",
              "      <td>female</td>\n",
              "      <td>27</td>\n",
              "      <td>154</td>\n",
              "      <td>58</td>\n",
              "      <td>10</td>\n",
              "      <td>81</td>\n",
              "      <td>39.8</td>\n",
              "      <td>35</td>\n",
              "      <td>0</td>\n",
              "    </tr>\n",
              "    <tr>\n",
              "      <th>5</th>\n",
              "      <td>15130815</td>\n",
              "      <td>female</td>\n",
              "      <td>36</td>\n",
              "      <td>151</td>\n",
              "      <td>50</td>\n",
              "      <td>23</td>\n",
              "      <td>96</td>\n",
              "      <td>40.7</td>\n",
              "      <td>123</td>\n",
              "      <td>0</td>\n",
              "    </tr>\n",
              "    <tr>\n",
              "      <th>6</th>\n",
              "      <td>19602372</td>\n",
              "      <td>female</td>\n",
              "      <td>33</td>\n",
              "      <td>158</td>\n",
              "      <td>56</td>\n",
              "      <td>22</td>\n",
              "      <td>95</td>\n",
              "      <td>40.5</td>\n",
              "      <td>112</td>\n",
              "      <td>0</td>\n",
              "    </tr>\n",
              "    <tr>\n",
              "      <th>7</th>\n",
              "      <td>11117088</td>\n",
              "      <td>male</td>\n",
              "      <td>41</td>\n",
              "      <td>175</td>\n",
              "      <td>85</td>\n",
              "      <td>25</td>\n",
              "      <td>100</td>\n",
              "      <td>40.7</td>\n",
              "      <td>143</td>\n",
              "      <td>1</td>\n",
              "    </tr>\n",
              "    <tr>\n",
              "      <th>8</th>\n",
              "      <td>12132339</td>\n",
              "      <td>male</td>\n",
              "      <td>60</td>\n",
              "      <td>186</td>\n",
              "      <td>94</td>\n",
              "      <td>21</td>\n",
              "      <td>97</td>\n",
              "      <td>40.4</td>\n",
              "      <td>134</td>\n",
              "      <td>1</td>\n",
              "    </tr>\n",
              "    <tr>\n",
              "      <th>9</th>\n",
              "      <td>17964668</td>\n",
              "      <td>female</td>\n",
              "      <td>26</td>\n",
              "      <td>146</td>\n",
              "      <td>51</td>\n",
              "      <td>16</td>\n",
              "      <td>90</td>\n",
              "      <td>40.2</td>\n",
              "      <td>72</td>\n",
              "      <td>0</td>\n",
              "    </tr>\n",
              "  </tbody>\n",
              "</table>\n",
              "</div>"
            ],
            "text/plain": [
              "    User_ID  Gender  Age  ...  Body_Temp  Calories  Numeric_Gender\n",
              "0  14733363    male   68  ...       40.8       231               1\n",
              "1  14861698  female   20  ...       40.3        66               0\n",
              "2  11179863    male   69  ...       38.7        26               1\n",
              "3  16180408  female   34  ...       40.5        71               0\n",
              "4  17771927  female   27  ...       39.8        35               0\n",
              "5  15130815  female   36  ...       40.7       123               0\n",
              "6  19602372  female   33  ...       40.5       112               0\n",
              "7  11117088    male   41  ...       40.7       143               1\n",
              "8  12132339    male   60  ...       40.4       134               1\n",
              "9  17964668  female   26  ...       40.2        72               0\n",
              "\n",
              "[10 rows x 10 columns]"
            ]
          },
          "metadata": {
            "tags": []
          },
          "execution_count": 17
        }
      ]
    },
    {
      "cell_type": "code",
      "metadata": {
        "colab": {
          "base_uri": "https://localhost:8080/"
        },
        "id": "x9xv9w3hYrgb",
        "outputId": "28c5e507-141f-4537-d4cf-5301a7e2d78b"
      },
      "source": [
        "exercise_data['Numeric_Gender'].value_counts()"
      ],
      "execution_count": 18,
      "outputs": [
        {
          "output_type": "execute_result",
          "data": {
            "text/plain": [
              "0    7553\n",
              "1    7447\n",
              "Name: Numeric_Gender, dtype: int64"
            ]
          },
          "metadata": {
            "tags": []
          },
          "execution_count": 18
        }
      ]
    },
    {
      "cell_type": "markdown",
      "metadata": {
        "id": "h5sj4G_rPkBZ"
      },
      "source": [
        "#### Lower Non-Linearity\r\n",
        "\r\n",
        "Using squared values make the **non-linerarity lower**. In python `**2` use to square the values."
      ]
    },
    {
      "cell_type": "code",
      "metadata": {
        "colab": {
          "base_uri": "https://localhost:8080/",
          "height": 359
        },
        "id": "QrzECV7_uZxI",
        "outputId": "4b61bb51-590e-49b1-f0cc-eac80f2b6ce7"
      },
      "source": [
        "exercise_data['Squared_Duration'] = exercise_data['Duration'] ** 2\r\n",
        "exercise_data['Squared_Heart_Rate'] = exercise_data['Heart_Rate'] ** 2\r\n",
        "exercise_data.head(10)"
      ],
      "execution_count": 19,
      "outputs": [
        {
          "output_type": "execute_result",
          "data": {
            "text/html": [
              "<div>\n",
              "<style scoped>\n",
              "    .dataframe tbody tr th:only-of-type {\n",
              "        vertical-align: middle;\n",
              "    }\n",
              "\n",
              "    .dataframe tbody tr th {\n",
              "        vertical-align: top;\n",
              "    }\n",
              "\n",
              "    .dataframe thead th {\n",
              "        text-align: right;\n",
              "    }\n",
              "</style>\n",
              "<table border=\"1\" class=\"dataframe\">\n",
              "  <thead>\n",
              "    <tr style=\"text-align: right;\">\n",
              "      <th></th>\n",
              "      <th>User_ID</th>\n",
              "      <th>Gender</th>\n",
              "      <th>Age</th>\n",
              "      <th>Height</th>\n",
              "      <th>Weight</th>\n",
              "      <th>Duration</th>\n",
              "      <th>Heart_Rate</th>\n",
              "      <th>Body_Temp</th>\n",
              "      <th>Calories</th>\n",
              "      <th>Numeric_Gender</th>\n",
              "      <th>Squared_Duration</th>\n",
              "      <th>Squared_Heart_Rate</th>\n",
              "    </tr>\n",
              "  </thead>\n",
              "  <tbody>\n",
              "    <tr>\n",
              "      <th>0</th>\n",
              "      <td>14733363</td>\n",
              "      <td>male</td>\n",
              "      <td>68</td>\n",
              "      <td>190</td>\n",
              "      <td>94</td>\n",
              "      <td>29</td>\n",
              "      <td>105</td>\n",
              "      <td>40.8</td>\n",
              "      <td>231</td>\n",
              "      <td>1</td>\n",
              "      <td>841</td>\n",
              "      <td>11025</td>\n",
              "    </tr>\n",
              "    <tr>\n",
              "      <th>1</th>\n",
              "      <td>14861698</td>\n",
              "      <td>female</td>\n",
              "      <td>20</td>\n",
              "      <td>166</td>\n",
              "      <td>60</td>\n",
              "      <td>14</td>\n",
              "      <td>94</td>\n",
              "      <td>40.3</td>\n",
              "      <td>66</td>\n",
              "      <td>0</td>\n",
              "      <td>196</td>\n",
              "      <td>8836</td>\n",
              "    </tr>\n",
              "    <tr>\n",
              "      <th>2</th>\n",
              "      <td>11179863</td>\n",
              "      <td>male</td>\n",
              "      <td>69</td>\n",
              "      <td>179</td>\n",
              "      <td>79</td>\n",
              "      <td>5</td>\n",
              "      <td>88</td>\n",
              "      <td>38.7</td>\n",
              "      <td>26</td>\n",
              "      <td>1</td>\n",
              "      <td>25</td>\n",
              "      <td>7744</td>\n",
              "    </tr>\n",
              "    <tr>\n",
              "      <th>3</th>\n",
              "      <td>16180408</td>\n",
              "      <td>female</td>\n",
              "      <td>34</td>\n",
              "      <td>179</td>\n",
              "      <td>71</td>\n",
              "      <td>13</td>\n",
              "      <td>100</td>\n",
              "      <td>40.5</td>\n",
              "      <td>71</td>\n",
              "      <td>0</td>\n",
              "      <td>169</td>\n",
              "      <td>10000</td>\n",
              "    </tr>\n",
              "    <tr>\n",
              "      <th>4</th>\n",
              "      <td>17771927</td>\n",
              "      <td>female</td>\n",
              "      <td>27</td>\n",
              "      <td>154</td>\n",
              "      <td>58</td>\n",
              "      <td>10</td>\n",
              "      <td>81</td>\n",
              "      <td>39.8</td>\n",
              "      <td>35</td>\n",
              "      <td>0</td>\n",
              "      <td>100</td>\n",
              "      <td>6561</td>\n",
              "    </tr>\n",
              "    <tr>\n",
              "      <th>5</th>\n",
              "      <td>15130815</td>\n",
              "      <td>female</td>\n",
              "      <td>36</td>\n",
              "      <td>151</td>\n",
              "      <td>50</td>\n",
              "      <td>23</td>\n",
              "      <td>96</td>\n",
              "      <td>40.7</td>\n",
              "      <td>123</td>\n",
              "      <td>0</td>\n",
              "      <td>529</td>\n",
              "      <td>9216</td>\n",
              "    </tr>\n",
              "    <tr>\n",
              "      <th>6</th>\n",
              "      <td>19602372</td>\n",
              "      <td>female</td>\n",
              "      <td>33</td>\n",
              "      <td>158</td>\n",
              "      <td>56</td>\n",
              "      <td>22</td>\n",
              "      <td>95</td>\n",
              "      <td>40.5</td>\n",
              "      <td>112</td>\n",
              "      <td>0</td>\n",
              "      <td>484</td>\n",
              "      <td>9025</td>\n",
              "    </tr>\n",
              "    <tr>\n",
              "      <th>7</th>\n",
              "      <td>11117088</td>\n",
              "      <td>male</td>\n",
              "      <td>41</td>\n",
              "      <td>175</td>\n",
              "      <td>85</td>\n",
              "      <td>25</td>\n",
              "      <td>100</td>\n",
              "      <td>40.7</td>\n",
              "      <td>143</td>\n",
              "      <td>1</td>\n",
              "      <td>625</td>\n",
              "      <td>10000</td>\n",
              "    </tr>\n",
              "    <tr>\n",
              "      <th>8</th>\n",
              "      <td>12132339</td>\n",
              "      <td>male</td>\n",
              "      <td>60</td>\n",
              "      <td>186</td>\n",
              "      <td>94</td>\n",
              "      <td>21</td>\n",
              "      <td>97</td>\n",
              "      <td>40.4</td>\n",
              "      <td>134</td>\n",
              "      <td>1</td>\n",
              "      <td>441</td>\n",
              "      <td>9409</td>\n",
              "    </tr>\n",
              "    <tr>\n",
              "      <th>9</th>\n",
              "      <td>17964668</td>\n",
              "      <td>female</td>\n",
              "      <td>26</td>\n",
              "      <td>146</td>\n",
              "      <td>51</td>\n",
              "      <td>16</td>\n",
              "      <td>90</td>\n",
              "      <td>40.2</td>\n",
              "      <td>72</td>\n",
              "      <td>0</td>\n",
              "      <td>256</td>\n",
              "      <td>8100</td>\n",
              "    </tr>\n",
              "  </tbody>\n",
              "</table>\n",
              "</div>"
            ],
            "text/plain": [
              "    User_ID  Gender  Age  ...  Numeric_Gender  Squared_Duration  Squared_Heart_Rate\n",
              "0  14733363    male   68  ...               1               841               11025\n",
              "1  14861698  female   20  ...               0               196                8836\n",
              "2  11179863    male   69  ...               1                25                7744\n",
              "3  16180408  female   34  ...               0               169               10000\n",
              "4  17771927  female   27  ...               0               100                6561\n",
              "5  15130815  female   36  ...               0               529                9216\n",
              "6  19602372  female   33  ...               0               484                9025\n",
              "7  11117088    male   41  ...               1               625               10000\n",
              "8  12132339    male   60  ...               1               441                9409\n",
              "9  17964668  female   26  ...               0               256                8100\n",
              "\n",
              "[10 rows x 12 columns]"
            ]
          },
          "metadata": {
            "tags": []
          },
          "execution_count": 19
        }
      ]
    },
    {
      "cell_type": "markdown",
      "metadata": {
        "id": "KODUq-u9U-Gb"
      },
      "source": [
        "Let's check how squared values helps to make linearrity in the distributions."
      ]
    },
    {
      "cell_type": "code",
      "metadata": {
        "colab": {
          "base_uri": "https://localhost:8080/",
          "height": 369
        },
        "id": "8-I3SFYSUc1D",
        "outputId": "ff0e2c34-e648-47fa-c7d6-88c78d975ba2"
      },
      "source": [
        "x1 = exercise_data['Squared_Duration']\r\n",
        "x2 = exercise_data['Squared_Heart_Rate']\r\n",
        "y = exercise_data['Calories']\r\n",
        "\r\n",
        "fig, axes = plt.subplots(nrows=1, ncols=2, figsize=(10, 5))\r\n",
        "axes[0].scatter(x1, y)\r\n",
        "axes[1].scatter(x2, y)\r\n",
        "fig.tight_layout()"
      ],
      "execution_count": 20,
      "outputs": [
        {
          "output_type": "display_data",
          "data": {
            "image/png": "[encoded data removed]",
            "text/plain": [
              "<Figure size 720x360 with 2 Axes>"
            ]
          },
          "metadata": {
            "tags": [],
            "needs_background": "light"
          }
        }
      ]
    },
    {
      "cell_type": "markdown",
      "metadata": {
        "id": "UJ1FOBIXQ3qr"
      },
      "source": [
        "#### Apply Mathematical Functions\r\n",
        "\r\n",
        "The `Calories` had distibution that may results non-negative prediction, to fix this we can use `log` value of the Calories. For this concern and any other **large-scale mathematical operation** apply scenarios we use `numpy` library.**bold text**"
      ]
    },
    {
      "cell_type": "code",
      "metadata": {
        "colab": {
          "base_uri": "https://localhost:8080/",
          "height": 359
        },
        "id": "KnzlL5ztTYoj",
        "outputId": "549b2b17-8e6c-44c3-e445-b42ffdc204dc"
      },
      "source": [
        "import numpy as np\r\n",
        "\r\n",
        "exercise_data['Log_Calories'] = np.log(exercise_data['Calories'])\r\n",
        "exercise_data.head(10)"
      ],
      "execution_count": 21,
      "outputs": [
        {
          "output_type": "execute_result",
          "data": {
            "text/html": [
              "<div>\n",
              "<style scoped>\n",
              "    .dataframe tbody tr th:only-of-type {\n",
              "        vertical-align: middle;\n",
              "    }\n",
              "\n",
              "    .dataframe tbody tr th {\n",
              "        vertical-align: top;\n",
              "    }\n",
              "\n",
              "    .dataframe thead th {\n",
              "        text-align: right;\n",
              "    }\n",
              "</style>\n",
              "<table border=\"1\" class=\"dataframe\">\n",
              "  <thead>\n",
              "    <tr style=\"text-align: right;\">\n",
              "      <th></th>\n",
              "      <th>User_ID</th>\n",
              "      <th>Gender</th>\n",
              "      <th>Age</th>\n",
              "      <th>Height</th>\n",
              "      <th>Weight</th>\n",
              "      <th>Duration</th>\n",
              "      <th>Heart_Rate</th>\n",
              "      <th>Body_Temp</th>\n",
              "      <th>Calories</th>\n",
              "      <th>Numeric_Gender</th>\n",
              "      <th>Squared_Duration</th>\n",
              "      <th>Squared_Heart_Rate</th>\n",
              "      <th>Log_Calories</th>\n",
              "    </tr>\n",
              "  </thead>\n",
              "  <tbody>\n",
              "    <tr>\n",
              "      <th>0</th>\n",
              "      <td>14733363</td>\n",
              "      <td>male</td>\n",
              "      <td>68</td>\n",
              "      <td>190</td>\n",
              "      <td>94</td>\n",
              "      <td>29</td>\n",
              "      <td>105</td>\n",
              "      <td>40.8</td>\n",
              "      <td>231</td>\n",
              "      <td>1</td>\n",
              "      <td>841</td>\n",
              "      <td>11025</td>\n",
              "      <td>5.442418</td>\n",
              "    </tr>\n",
              "    <tr>\n",
              "      <th>1</th>\n",
              "      <td>14861698</td>\n",
              "      <td>female</td>\n",
              "      <td>20</td>\n",
              "      <td>166</td>\n",
              "      <td>60</td>\n",
              "      <td>14</td>\n",
              "      <td>94</td>\n",
              "      <td>40.3</td>\n",
              "      <td>66</td>\n",
              "      <td>0</td>\n",
              "      <td>196</td>\n",
              "      <td>8836</td>\n",
              "      <td>4.189655</td>\n",
              "    </tr>\n",
              "    <tr>\n",
              "      <th>2</th>\n",
              "      <td>11179863</td>\n",
              "      <td>male</td>\n",
              "      <td>69</td>\n",
              "      <td>179</td>\n",
              "      <td>79</td>\n",
              "      <td>5</td>\n",
              "      <td>88</td>\n",
              "      <td>38.7</td>\n",
              "      <td>26</td>\n",
              "      <td>1</td>\n",
              "      <td>25</td>\n",
              "      <td>7744</td>\n",
              "      <td>3.258097</td>\n",
              "    </tr>\n",
              "    <tr>\n",
              "      <th>3</th>\n",
              "      <td>16180408</td>\n",
              "      <td>female</td>\n",
              "      <td>34</td>\n",
              "      <td>179</td>\n",
              "      <td>71</td>\n",
              "      <td>13</td>\n",
              "      <td>100</td>\n",
              "      <td>40.5</td>\n",
              "      <td>71</td>\n",
              "      <td>0</td>\n",
              "      <td>169</td>\n",
              "      <td>10000</td>\n",
              "      <td>4.262680</td>\n",
              "    </tr>\n",
              "    <tr>\n",
              "      <th>4</th>\n",
              "      <td>17771927</td>\n",
              "      <td>female</td>\n",
              "      <td>27</td>\n",
              "      <td>154</td>\n",
              "      <td>58</td>\n",
              "      <td>10</td>\n",
              "      <td>81</td>\n",
              "      <td>39.8</td>\n",
              "      <td>35</td>\n",
              "      <td>0</td>\n",
              "      <td>100</td>\n",
              "      <td>6561</td>\n",
              "      <td>3.555348</td>\n",
              "    </tr>\n",
              "    <tr>\n",
              "      <th>5</th>\n",
              "      <td>15130815</td>\n",
              "      <td>female</td>\n",
              "      <td>36</td>\n",
              "      <td>151</td>\n",
              "      <td>50</td>\n",
              "      <td>23</td>\n",
              "      <td>96</td>\n",
              "      <td>40.7</td>\n",
              "      <td>123</td>\n",
              "      <td>0</td>\n",
              "      <td>529</td>\n",
              "      <td>9216</td>\n",
              "      <td>4.812184</td>\n",
              "    </tr>\n",
              "    <tr>\n",
              "      <th>6</th>\n",
              "      <td>19602372</td>\n",
              "      <td>female</td>\n",
              "      <td>33</td>\n",
              "      <td>158</td>\n",
              "      <td>56</td>\n",
              "      <td>22</td>\n",
              "      <td>95</td>\n",
              "      <td>40.5</td>\n",
              "      <td>112</td>\n",
              "      <td>0</td>\n",
              "      <td>484</td>\n",
              "      <td>9025</td>\n",
              "      <td>4.718499</td>\n",
              "    </tr>\n",
              "    <tr>\n",
              "      <th>7</th>\n",
              "      <td>11117088</td>\n",
              "      <td>male</td>\n",
              "      <td>41</td>\n",
              "      <td>175</td>\n",
              "      <td>85</td>\n",
              "      <td>25</td>\n",
              "      <td>100</td>\n",
              "      <td>40.7</td>\n",
              "      <td>143</td>\n",
              "      <td>1</td>\n",
              "      <td>625</td>\n",
              "      <td>10000</td>\n",
              "      <td>4.962845</td>\n",
              "    </tr>\n",
              "    <tr>\n",
              "      <th>8</th>\n",
              "      <td>12132339</td>\n",
              "      <td>male</td>\n",
              "      <td>60</td>\n",
              "      <td>186</td>\n",
              "      <td>94</td>\n",
              "      <td>21</td>\n",
              "      <td>97</td>\n",
              "      <td>40.4</td>\n",
              "      <td>134</td>\n",
              "      <td>1</td>\n",
              "      <td>441</td>\n",
              "      <td>9409</td>\n",
              "      <td>4.897840</td>\n",
              "    </tr>\n",
              "    <tr>\n",
              "      <th>9</th>\n",
              "      <td>17964668</td>\n",
              "      <td>female</td>\n",
              "      <td>26</td>\n",
              "      <td>146</td>\n",
              "      <td>51</td>\n",
              "      <td>16</td>\n",
              "      <td>90</td>\n",
              "      <td>40.2</td>\n",
              "      <td>72</td>\n",
              "      <td>0</td>\n",
              "      <td>256</td>\n",
              "      <td>8100</td>\n",
              "      <td>4.276666</td>\n",
              "    </tr>\n",
              "  </tbody>\n",
              "</table>\n",
              "</div>"
            ],
            "text/plain": [
              "    User_ID  Gender  Age  ...  Squared_Duration  Squared_Heart_Rate  Log_Calories\n",
              "0  14733363    male   68  ...               841               11025      5.442418\n",
              "1  14861698  female   20  ...               196                8836      4.189655\n",
              "2  11179863    male   69  ...                25                7744      3.258097\n",
              "3  16180408  female   34  ...               169               10000      4.262680\n",
              "4  17771927  female   27  ...               100                6561      3.555348\n",
              "5  15130815  female   36  ...               529                9216      4.812184\n",
              "6  19602372  female   33  ...               484                9025      4.718499\n",
              "7  11117088    male   41  ...               625               10000      4.962845\n",
              "8  12132339    male   60  ...               441                9409      4.897840\n",
              "9  17964668  female   26  ...               256                8100      4.276666\n",
              "\n",
              "[10 rows x 13 columns]"
            ]
          },
          "metadata": {
            "tags": []
          },
          "execution_count": 21
        }
      ]
    },
    {
      "cell_type": "code",
      "metadata": {
        "colab": {
          "base_uri": "https://localhost:8080/",
          "height": 367
        },
        "id": "uyTBj3LGZlvm",
        "outputId": "193ea7db-658e-4dd5-e105-101faa7c36ca"
      },
      "source": [
        "plt.title('Histogarm of Log_Calories')\r\n",
        "plt.xlabel('Calories')\r\n",
        "plt.ylabel('Density')\r\n",
        "sns.distplot(exercise_data['Log_Calories'])"
      ],
      "execution_count": 22,
      "outputs": [
        {
          "output_type": "stream",
          "text": [
            "/usr/local/lib/python3.6/dist-packages/seaborn/distributions.py:2551: FutureWarning: `distplot` is a deprecated function and will be removed in a future version. Please adapt your code to use either `displot` (a figure-level function with similar flexibility) or `histplot` (an axes-level function for histograms).\n",
            "  warnings.warn(msg, FutureWarning)\n"
          ],
          "name": "stderr"
        },
        {
          "output_type": "execute_result",
          "data": {
            "text/plain": [
              "<matplotlib.axes._subplots.AxesSubplot at 0x7f4c5b51f588>"
            ]
          },
          "metadata": {
            "tags": []
          },
          "execution_count": 22
        },
        {
          "output_type": "display_data",
          "data": {
            "image/png": "[encoded data removed]",
            "text/plain": [
              "<Figure size 432x288 with 1 Axes>"
            ]
          },
          "metadata": {
            "tags": [],
            "needs_background": "light"
          }
        }
      ]
    },
    {
      "cell_type": "markdown",
      "metadata": {
        "id": "5Ev_sAXiQ3ch"
      },
      "source": [
        "#### Scaling Distributions\r\n",
        "\r\n",
        "For the normal distribution we can apply **ZSocre** method to scale the values.\r\n"
      ]
    },
    {
      "cell_type": "code",
      "metadata": {
        "colab": {
          "base_uri": "https://localhost:8080/",
          "height": 379
        },
        "id": "buW2NKvGWn6S",
        "outputId": "a594414f-fa15-4bf3-83ea-c181a26a138c"
      },
      "source": [
        "from scipy.stats import zscore\r\n",
        "\r\n",
        "exercise_data['ZScore_Body_Temp'] = zscore(exercise_data['Body_Temp'])\r\n",
        "exercise_data['ZScore_Height'] = zscore(exercise_data['Height'])\r\n",
        "exercise_data['ZScore_Weight'] = zscore(exercise_data['Weight'])\r\n",
        "exercise_data['ZScore_Squared_Heart_Rate'] = zscore(exercise_data['Squared_Heart_Rate'])\r\n",
        "\r\n",
        "exercise_data.head(10)"
      ],
      "execution_count": 23,
      "outputs": [
        {
          "output_type": "execute_result",
          "data": {
            "text/html": [
              "<div>\n",
              "<style scoped>\n",
              "    .dataframe tbody tr th:only-of-type {\n",
              "        vertical-align: middle;\n",
              "    }\n",
              "\n",
              "    .dataframe tbody tr th {\n",
              "        vertical-align: top;\n",
              "    }\n",
              "\n",
              "    .dataframe thead th {\n",
              "        text-align: right;\n",
              "    }\n",
              "</style>\n",
              "<table border=\"1\" class=\"dataframe\">\n",
              "  <thead>\n",
              "    <tr style=\"text-align: right;\">\n",
              "      <th></th>\n",
              "      <th>User_ID</th>\n",
              "      <th>Gender</th>\n",
              "      <th>Age</th>\n",
              "      <th>Height</th>\n",
              "      <th>Weight</th>\n",
              "      <th>Duration</th>\n",
              "      <th>Heart_Rate</th>\n",
              "      <th>Body_Temp</th>\n",
              "      <th>Calories</th>\n",
              "      <th>Numeric_Gender</th>\n",
              "      <th>Squared_Duration</th>\n",
              "      <th>Squared_Heart_Rate</th>\n",
              "      <th>Log_Calories</th>\n",
              "      <th>ZScore_Body_Temp</th>\n",
              "      <th>ZScore_Height</th>\n",
              "      <th>ZScore_Weight</th>\n",
              "      <th>ZScore_Squared_Heart_Rate</th>\n",
              "    </tr>\n",
              "  </thead>\n",
              "  <tbody>\n",
              "    <tr>\n",
              "      <th>0</th>\n",
              "      <td>14733363</td>\n",
              "      <td>male</td>\n",
              "      <td>68</td>\n",
              "      <td>190</td>\n",
              "      <td>94</td>\n",
              "      <td>29</td>\n",
              "      <td>105</td>\n",
              "      <td>40.8</td>\n",
              "      <td>231</td>\n",
              "      <td>1</td>\n",
              "      <td>841</td>\n",
              "      <td>11025</td>\n",
              "      <td>5.442418</td>\n",
              "      <td>0.994023</td>\n",
              "      <td>1.089582</td>\n",
              "      <td>1.265909</td>\n",
              "      <td>0.987193</td>\n",
              "    </tr>\n",
              "    <tr>\n",
              "      <th>1</th>\n",
              "      <td>14861698</td>\n",
              "      <td>female</td>\n",
              "      <td>20</td>\n",
              "      <td>166</td>\n",
              "      <td>60</td>\n",
              "      <td>14</td>\n",
              "      <td>94</td>\n",
              "      <td>40.3</td>\n",
              "      <td>66</td>\n",
              "      <td>0</td>\n",
              "      <td>196</td>\n",
              "      <td>8836</td>\n",
              "      <td>4.189655</td>\n",
              "      <td>0.352342</td>\n",
              "      <td>-0.593726</td>\n",
              "      <td>-0.995458</td>\n",
              "      <td>-0.207123</td>\n",
              "    </tr>\n",
              "    <tr>\n",
              "      <th>2</th>\n",
              "      <td>11179863</td>\n",
              "      <td>male</td>\n",
              "      <td>69</td>\n",
              "      <td>179</td>\n",
              "      <td>79</td>\n",
              "      <td>5</td>\n",
              "      <td>88</td>\n",
              "      <td>38.7</td>\n",
              "      <td>26</td>\n",
              "      <td>1</td>\n",
              "      <td>25</td>\n",
              "      <td>7744</td>\n",
              "      <td>3.258097</td>\n",
              "      <td>-1.701035</td>\n",
              "      <td>0.318066</td>\n",
              "      <td>0.268247</td>\n",
              "      <td>-0.802917</td>\n",
              "    </tr>\n",
              "    <tr>\n",
              "      <th>3</th>\n",
              "      <td>16180408</td>\n",
              "      <td>female</td>\n",
              "      <td>34</td>\n",
              "      <td>179</td>\n",
              "      <td>71</td>\n",
              "      <td>13</td>\n",
              "      <td>100</td>\n",
              "      <td>40.5</td>\n",
              "      <td>71</td>\n",
              "      <td>0</td>\n",
              "      <td>169</td>\n",
              "      <td>10000</td>\n",
              "      <td>4.262680</td>\n",
              "      <td>0.609015</td>\n",
              "      <td>0.318066</td>\n",
              "      <td>-0.263839</td>\n",
              "      <td>0.427955</td>\n",
              "    </tr>\n",
              "    <tr>\n",
              "      <th>4</th>\n",
              "      <td>17771927</td>\n",
              "      <td>female</td>\n",
              "      <td>27</td>\n",
              "      <td>154</td>\n",
              "      <td>58</td>\n",
              "      <td>10</td>\n",
              "      <td>81</td>\n",
              "      <td>39.8</td>\n",
              "      <td>35</td>\n",
              "      <td>0</td>\n",
              "      <td>100</td>\n",
              "      <td>6561</td>\n",
              "      <td>3.555348</td>\n",
              "      <td>-0.289338</td>\n",
              "      <td>-1.435380</td>\n",
              "      <td>-1.128480</td>\n",
              "      <td>-1.448360</td>\n",
              "    </tr>\n",
              "    <tr>\n",
              "      <th>5</th>\n",
              "      <td>15130815</td>\n",
              "      <td>female</td>\n",
              "      <td>36</td>\n",
              "      <td>151</td>\n",
              "      <td>50</td>\n",
              "      <td>23</td>\n",
              "      <td>96</td>\n",
              "      <td>40.7</td>\n",
              "      <td>123</td>\n",
              "      <td>0</td>\n",
              "      <td>529</td>\n",
              "      <td>9216</td>\n",
              "      <td>4.812184</td>\n",
              "      <td>0.865687</td>\n",
              "      <td>-1.645794</td>\n",
              "      <td>-1.660566</td>\n",
              "      <td>0.000205</td>\n",
              "    </tr>\n",
              "    <tr>\n",
              "      <th>6</th>\n",
              "      <td>19602372</td>\n",
              "      <td>female</td>\n",
              "      <td>33</td>\n",
              "      <td>158</td>\n",
              "      <td>56</td>\n",
              "      <td>22</td>\n",
              "      <td>95</td>\n",
              "      <td>40.5</td>\n",
              "      <td>112</td>\n",
              "      <td>0</td>\n",
              "      <td>484</td>\n",
              "      <td>9025</td>\n",
              "      <td>4.718499</td>\n",
              "      <td>0.609015</td>\n",
              "      <td>-1.154829</td>\n",
              "      <td>-1.261501</td>\n",
              "      <td>-0.104004</td>\n",
              "    </tr>\n",
              "    <tr>\n",
              "      <th>7</th>\n",
              "      <td>11117088</td>\n",
              "      <td>male</td>\n",
              "      <td>41</td>\n",
              "      <td>175</td>\n",
              "      <td>85</td>\n",
              "      <td>25</td>\n",
              "      <td>100</td>\n",
              "      <td>40.7</td>\n",
              "      <td>143</td>\n",
              "      <td>1</td>\n",
              "      <td>625</td>\n",
              "      <td>10000</td>\n",
              "      <td>4.962845</td>\n",
              "      <td>0.865687</td>\n",
              "      <td>0.037514</td>\n",
              "      <td>0.667312</td>\n",
              "      <td>0.427955</td>\n",
              "    </tr>\n",
              "    <tr>\n",
              "      <th>8</th>\n",
              "      <td>12132339</td>\n",
              "      <td>male</td>\n",
              "      <td>60</td>\n",
              "      <td>186</td>\n",
              "      <td>94</td>\n",
              "      <td>21</td>\n",
              "      <td>97</td>\n",
              "      <td>40.4</td>\n",
              "      <td>134</td>\n",
              "      <td>1</td>\n",
              "      <td>441</td>\n",
              "      <td>9409</td>\n",
              "      <td>4.897840</td>\n",
              "      <td>0.480679</td>\n",
              "      <td>0.809031</td>\n",
              "      <td>1.265909</td>\n",
              "      <td>0.105506</td>\n",
              "    </tr>\n",
              "    <tr>\n",
              "      <th>9</th>\n",
              "      <td>17964668</td>\n",
              "      <td>female</td>\n",
              "      <td>26</td>\n",
              "      <td>146</td>\n",
              "      <td>51</td>\n",
              "      <td>16</td>\n",
              "      <td>90</td>\n",
              "      <td>40.2</td>\n",
              "      <td>72</td>\n",
              "      <td>0</td>\n",
              "      <td>256</td>\n",
              "      <td>8100</td>\n",
              "      <td>4.276666</td>\n",
              "      <td>0.224006</td>\n",
              "      <td>-1.996483</td>\n",
              "      <td>-1.594055</td>\n",
              "      <td>-0.608683</td>\n",
              "    </tr>\n",
              "  </tbody>\n",
              "</table>\n",
              "</div>"
            ],
            "text/plain": [
              "    User_ID  Gender  ...  ZScore_Weight  ZScore_Squared_Heart_Rate\n",
              "0  14733363    male  ...       1.265909                   0.987193\n",
              "1  14861698  female  ...      -0.995458                  -0.207123\n",
              "2  11179863    male  ...       0.268247                  -0.802917\n",
              "3  16180408  female  ...      -0.263839                   0.427955\n",
              "4  17771927  female  ...      -1.128480                  -1.448360\n",
              "5  15130815  female  ...      -1.660566                   0.000205\n",
              "6  19602372  female  ...      -1.261501                  -0.104004\n",
              "7  11117088    male  ...       0.667312                   0.427955\n",
              "8  12132339    male  ...       1.265909                   0.105506\n",
              "9  17964668  female  ...      -1.594055                  -0.608683\n",
              "\n",
              "[10 rows x 17 columns]"
            ]
          },
          "metadata": {
            "tags": []
          },
          "execution_count": 23
        }
      ]
    },
    {
      "cell_type": "markdown",
      "metadata": {
        "id": "J_zRLPCQXnyL"
      },
      "source": [
        "For non-normal distributions like, `Age` and `Duration` let's us **MinMax** method to scale the values."
      ]
    },
    {
      "cell_type": "code",
      "metadata": {
        "colab": {
          "base_uri": "https://localhost:8080/",
          "height": 379
        },
        "id": "WUbZjoMFX2Jq",
        "outputId": "da7c8bde-f9df-4496-8260-6bc1b6869af1"
      },
      "source": [
        "from sklearn.preprocessing import MinMaxScaler\r\n",
        "\r\n",
        "scaler = MinMaxScaler()\r\n",
        "\r\n",
        "minMaxData = pd.DataFrame(scaler.fit_transform(exercise_data.loc[:, ['Age', 'Squared_Duration']]), columns=['Min_Max_Age', 'Min_Max_Squared_Duration'])\r\n",
        "exercise_data = pd.concat([exercise_data, minMaxData], axis = 1, join = 'inner')\r\n",
        "\r\n",
        "exercise_data.head(10)"
      ],
      "execution_count": 24,
      "outputs": [
        {
          "output_type": "execute_result",
          "data": {
            "text/html": [
              "<div>\n",
              "<style scoped>\n",
              "    .dataframe tbody tr th:only-of-type {\n",
              "        vertical-align: middle;\n",
              "    }\n",
              "\n",
              "    .dataframe tbody tr th {\n",
              "        vertical-align: top;\n",
              "    }\n",
              "\n",
              "    .dataframe thead th {\n",
              "        text-align: right;\n",
              "    }\n",
              "</style>\n",
              "<table border=\"1\" class=\"dataframe\">\n",
              "  <thead>\n",
              "    <tr style=\"text-align: right;\">\n",
              "      <th></th>\n",
              "      <th>User_ID</th>\n",
              "      <th>Gender</th>\n",
              "      <th>Age</th>\n",
              "      <th>Height</th>\n",
              "      <th>Weight</th>\n",
              "      <th>Duration</th>\n",
              "      <th>Heart_Rate</th>\n",
              "      <th>Body_Temp</th>\n",
              "      <th>Calories</th>\n",
              "      <th>Numeric_Gender</th>\n",
              "      <th>Squared_Duration</th>\n",
              "      <th>Squared_Heart_Rate</th>\n",
              "      <th>Log_Calories</th>\n",
              "      <th>ZScore_Body_Temp</th>\n",
              "      <th>ZScore_Height</th>\n",
              "      <th>ZScore_Weight</th>\n",
              "      <th>ZScore_Squared_Heart_Rate</th>\n",
              "      <th>Min_Max_Age</th>\n",
              "      <th>Min_Max_Squared_Duration</th>\n",
              "    </tr>\n",
              "  </thead>\n",
              "  <tbody>\n",
              "    <tr>\n",
              "      <th>0</th>\n",
              "      <td>14733363</td>\n",
              "      <td>male</td>\n",
              "      <td>68</td>\n",
              "      <td>190</td>\n",
              "      <td>94</td>\n",
              "      <td>29</td>\n",
              "      <td>105</td>\n",
              "      <td>40.8</td>\n",
              "      <td>231</td>\n",
              "      <td>1</td>\n",
              "      <td>841</td>\n",
              "      <td>11025</td>\n",
              "      <td>5.442418</td>\n",
              "      <td>0.994023</td>\n",
              "      <td>1.089582</td>\n",
              "      <td>1.265909</td>\n",
              "      <td>0.987193</td>\n",
              "      <td>0.813559</td>\n",
              "      <td>0.934372</td>\n",
              "    </tr>\n",
              "    <tr>\n",
              "      <th>1</th>\n",
              "      <td>14861698</td>\n",
              "      <td>female</td>\n",
              "      <td>20</td>\n",
              "      <td>166</td>\n",
              "      <td>60</td>\n",
              "      <td>14</td>\n",
              "      <td>94</td>\n",
              "      <td>40.3</td>\n",
              "      <td>66</td>\n",
              "      <td>0</td>\n",
              "      <td>196</td>\n",
              "      <td>8836</td>\n",
              "      <td>4.189655</td>\n",
              "      <td>0.352342</td>\n",
              "      <td>-0.593726</td>\n",
              "      <td>-0.995458</td>\n",
              "      <td>-0.207123</td>\n",
              "      <td>0.000000</td>\n",
              "      <td>0.216908</td>\n",
              "    </tr>\n",
              "    <tr>\n",
              "      <th>2</th>\n",
              "      <td>11179863</td>\n",
              "      <td>male</td>\n",
              "      <td>69</td>\n",
              "      <td>179</td>\n",
              "      <td>79</td>\n",
              "      <td>5</td>\n",
              "      <td>88</td>\n",
              "      <td>38.7</td>\n",
              "      <td>26</td>\n",
              "      <td>1</td>\n",
              "      <td>25</td>\n",
              "      <td>7744</td>\n",
              "      <td>3.258097</td>\n",
              "      <td>-1.701035</td>\n",
              "      <td>0.318066</td>\n",
              "      <td>0.268247</td>\n",
              "      <td>-0.802917</td>\n",
              "      <td>0.830508</td>\n",
              "      <td>0.026696</td>\n",
              "    </tr>\n",
              "    <tr>\n",
              "      <th>3</th>\n",
              "      <td>16180408</td>\n",
              "      <td>female</td>\n",
              "      <td>34</td>\n",
              "      <td>179</td>\n",
              "      <td>71</td>\n",
              "      <td>13</td>\n",
              "      <td>100</td>\n",
              "      <td>40.5</td>\n",
              "      <td>71</td>\n",
              "      <td>0</td>\n",
              "      <td>169</td>\n",
              "      <td>10000</td>\n",
              "      <td>4.262680</td>\n",
              "      <td>0.609015</td>\n",
              "      <td>0.318066</td>\n",
              "      <td>-0.263839</td>\n",
              "      <td>0.427955</td>\n",
              "      <td>0.237288</td>\n",
              "      <td>0.186874</td>\n",
              "    </tr>\n",
              "    <tr>\n",
              "      <th>4</th>\n",
              "      <td>17771927</td>\n",
              "      <td>female</td>\n",
              "      <td>27</td>\n",
              "      <td>154</td>\n",
              "      <td>58</td>\n",
              "      <td>10</td>\n",
              "      <td>81</td>\n",
              "      <td>39.8</td>\n",
              "      <td>35</td>\n",
              "      <td>0</td>\n",
              "      <td>100</td>\n",
              "      <td>6561</td>\n",
              "      <td>3.555348</td>\n",
              "      <td>-0.289338</td>\n",
              "      <td>-1.435380</td>\n",
              "      <td>-1.128480</td>\n",
              "      <td>-1.448360</td>\n",
              "      <td>0.118644</td>\n",
              "      <td>0.110122</td>\n",
              "    </tr>\n",
              "    <tr>\n",
              "      <th>5</th>\n",
              "      <td>15130815</td>\n",
              "      <td>female</td>\n",
              "      <td>36</td>\n",
              "      <td>151</td>\n",
              "      <td>50</td>\n",
              "      <td>23</td>\n",
              "      <td>96</td>\n",
              "      <td>40.7</td>\n",
              "      <td>123</td>\n",
              "      <td>0</td>\n",
              "      <td>529</td>\n",
              "      <td>9216</td>\n",
              "      <td>4.812184</td>\n",
              "      <td>0.865687</td>\n",
              "      <td>-1.645794</td>\n",
              "      <td>-1.660566</td>\n",
              "      <td>0.000205</td>\n",
              "      <td>0.271186</td>\n",
              "      <td>0.587319</td>\n",
              "    </tr>\n",
              "    <tr>\n",
              "      <th>6</th>\n",
              "      <td>19602372</td>\n",
              "      <td>female</td>\n",
              "      <td>33</td>\n",
              "      <td>158</td>\n",
              "      <td>56</td>\n",
              "      <td>22</td>\n",
              "      <td>95</td>\n",
              "      <td>40.5</td>\n",
              "      <td>112</td>\n",
              "      <td>0</td>\n",
              "      <td>484</td>\n",
              "      <td>9025</td>\n",
              "      <td>4.718499</td>\n",
              "      <td>0.609015</td>\n",
              "      <td>-1.154829</td>\n",
              "      <td>-1.261501</td>\n",
              "      <td>-0.104004</td>\n",
              "      <td>0.220339</td>\n",
              "      <td>0.537264</td>\n",
              "    </tr>\n",
              "    <tr>\n",
              "      <th>7</th>\n",
              "      <td>11117088</td>\n",
              "      <td>male</td>\n",
              "      <td>41</td>\n",
              "      <td>175</td>\n",
              "      <td>85</td>\n",
              "      <td>25</td>\n",
              "      <td>100</td>\n",
              "      <td>40.7</td>\n",
              "      <td>143</td>\n",
              "      <td>1</td>\n",
              "      <td>625</td>\n",
              "      <td>10000</td>\n",
              "      <td>4.962845</td>\n",
              "      <td>0.865687</td>\n",
              "      <td>0.037514</td>\n",
              "      <td>0.667312</td>\n",
              "      <td>0.427955</td>\n",
              "      <td>0.355932</td>\n",
              "      <td>0.694105</td>\n",
              "    </tr>\n",
              "    <tr>\n",
              "      <th>8</th>\n",
              "      <td>12132339</td>\n",
              "      <td>male</td>\n",
              "      <td>60</td>\n",
              "      <td>186</td>\n",
              "      <td>94</td>\n",
              "      <td>21</td>\n",
              "      <td>97</td>\n",
              "      <td>40.4</td>\n",
              "      <td>134</td>\n",
              "      <td>1</td>\n",
              "      <td>441</td>\n",
              "      <td>9409</td>\n",
              "      <td>4.897840</td>\n",
              "      <td>0.480679</td>\n",
              "      <td>0.809031</td>\n",
              "      <td>1.265909</td>\n",
              "      <td>0.105506</td>\n",
              "      <td>0.677966</td>\n",
              "      <td>0.489433</td>\n",
              "    </tr>\n",
              "    <tr>\n",
              "      <th>9</th>\n",
              "      <td>17964668</td>\n",
              "      <td>female</td>\n",
              "      <td>26</td>\n",
              "      <td>146</td>\n",
              "      <td>51</td>\n",
              "      <td>16</td>\n",
              "      <td>90</td>\n",
              "      <td>40.2</td>\n",
              "      <td>72</td>\n",
              "      <td>0</td>\n",
              "      <td>256</td>\n",
              "      <td>8100</td>\n",
              "      <td>4.276666</td>\n",
              "      <td>0.224006</td>\n",
              "      <td>-1.996483</td>\n",
              "      <td>-1.594055</td>\n",
              "      <td>-0.608683</td>\n",
              "      <td>0.101695</td>\n",
              "      <td>0.283648</td>\n",
              "    </tr>\n",
              "  </tbody>\n",
              "</table>\n",
              "</div>"
            ],
            "text/plain": [
              "    User_ID  Gender  ...  Min_Max_Age  Min_Max_Squared_Duration\n",
              "0  14733363    male  ...     0.813559                  0.934372\n",
              "1  14861698  female  ...     0.000000                  0.216908\n",
              "2  11179863    male  ...     0.830508                  0.026696\n",
              "3  16180408  female  ...     0.237288                  0.186874\n",
              "4  17771927  female  ...     0.118644                  0.110122\n",
              "5  15130815  female  ...     0.271186                  0.587319\n",
              "6  19602372  female  ...     0.220339                  0.537264\n",
              "7  11117088    male  ...     0.355932                  0.694105\n",
              "8  12132339    male  ...     0.677966                  0.489433\n",
              "9  17964668  female  ...     0.101695                  0.283648\n",
              "\n",
              "[10 rows x 19 columns]"
            ]
          },
          "metadata": {
            "tags": []
          },
          "execution_count": 24
        }
      ]
    },
    {
      "cell_type": "markdown",
      "metadata": {
        "id": "DaqPsArSuaz4"
      },
      "source": [
        "## Task 3\r\n",
        "\r\n",
        "Final step of preparing this dataset is removing non-used columns and make sure dataset contains all the necessary feature columns and label column.\r\n",
        "\r\n",
        "Following can be identified as columns need to delete from the dataset.\r\n",
        "\r\n",
        "* User_ID\r\n",
        "* Gender\r\n",
        "* Age\r\n",
        "* Height\r\n",
        "* Weight\r\n",
        "* Duration\r\n",
        "* Heart_Rate\r\n",
        "* Body_Temp\r\n",
        "* Calories\r\n",
        "* Squared_Duration\r\n",
        "* Squared_Heart_Rate\r\n",
        "\r\n",
        "Also we can rename the columns to it's original names for future usability."
      ]
    },
    {
      "cell_type": "code",
      "metadata": {
        "id": "K-WXvI6KlJpt"
      },
      "source": [
        "column_to_remove = ['User_ID', 'Gender', 'Age', 'Height', 'Weight', 'Duration', 'Heart_Rate', 'Body_Temp', 'Calories', 'Squared_Duration', 'Squared_Heart_Rate']\r\n",
        "exercise_data.drop(column_to_remove, axis = 1, inplace = True)"
      ],
      "execution_count": 25,
      "outputs": []
    },
    {
      "cell_type": "code",
      "metadata": {
        "colab": {
          "base_uri": "https://localhost:8080/",
          "height": 359
        },
        "id": "_O8H4JPLfe0c",
        "outputId": "5cae3b2b-8094-4963-869e-073ad4b89ecd"
      },
      "source": [
        "exercise_data = exercise_data.reindex(columns=['Numeric_Gender', 'Min_Max_Age',\t'ZScore_Height', 'ZScore_Weight', \r\n",
        "                                               'Min_Max_Squared_Duration', 'ZScore_Squared_Heart_Rate', \r\n",
        "                                               'ZScore_Body_Temp', 'Log_Calories'])\r\n",
        "rename_columns = {'Numeric_Gender':'Gender', 'Min_Max_Age': 'Age',\t\r\n",
        "                  'ZScore_Height': 'Height', 'ZScore_Weight': 'Weight', \r\n",
        "                  'Min_Max_Squared_Duration': 'Duration', 'ZScore_Squared_Heart_Rate': 'Heart_Rate', \r\n",
        "                  'ZScore_Body_Temp': 'Body_Temp', 'Log_Calories': 'Calories'}\r\n",
        "exercise_data.rename(columns = rename_columns, inplace = True)\r\n",
        "\r\n",
        "exercise_data.head(10)"
      ],
      "execution_count": 26,
      "outputs": [
        {
          "output_type": "execute_result",
          "data": {
            "text/html": [
              "<div>\n",
              "<style scoped>\n",
              "    .dataframe tbody tr th:only-of-type {\n",
              "        vertical-align: middle;\n",
              "    }\n",
              "\n",
              "    .dataframe tbody tr th {\n",
              "        vertical-align: top;\n",
              "    }\n",
              "\n",
              "    .dataframe thead th {\n",
              "        text-align: right;\n",
              "    }\n",
              "</style>\n",
              "<table border=\"1\" class=\"dataframe\">\n",
              "  <thead>\n",
              "    <tr style=\"text-align: right;\">\n",
              "      <th></th>\n",
              "      <th>Gender</th>\n",
              "      <th>Age</th>\n",
              "      <th>Height</th>\n",
              "      <th>Weight</th>\n",
              "      <th>Duration</th>\n",
              "      <th>Heart_Rate</th>\n",
              "      <th>Body_Temp</th>\n",
              "      <th>Calories</th>\n",
              "    </tr>\n",
              "  </thead>\n",
              "  <tbody>\n",
              "    <tr>\n",
              "      <th>0</th>\n",
              "      <td>1</td>\n",
              "      <td>0.813559</td>\n",
              "      <td>1.089582</td>\n",
              "      <td>1.265909</td>\n",
              "      <td>0.934372</td>\n",
              "      <td>0.987193</td>\n",
              "      <td>0.994023</td>\n",
              "      <td>5.442418</td>\n",
              "    </tr>\n",
              "    <tr>\n",
              "      <th>1</th>\n",
              "      <td>0</td>\n",
              "      <td>0.000000</td>\n",
              "      <td>-0.593726</td>\n",
              "      <td>-0.995458</td>\n",
              "      <td>0.216908</td>\n",
              "      <td>-0.207123</td>\n",
              "      <td>0.352342</td>\n",
              "      <td>4.189655</td>\n",
              "    </tr>\n",
              "    <tr>\n",
              "      <th>2</th>\n",
              "      <td>1</td>\n",
              "      <td>0.830508</td>\n",
              "      <td>0.318066</td>\n",
              "      <td>0.268247</td>\n",
              "      <td>0.026696</td>\n",
              "      <td>-0.802917</td>\n",
              "      <td>-1.701035</td>\n",
              "      <td>3.258097</td>\n",
              "    </tr>\n",
              "    <tr>\n",
              "      <th>3</th>\n",
              "      <td>0</td>\n",
              "      <td>0.237288</td>\n",
              "      <td>0.318066</td>\n",
              "      <td>-0.263839</td>\n",
              "      <td>0.186874</td>\n",
              "      <td>0.427955</td>\n",
              "      <td>0.609015</td>\n",
              "      <td>4.262680</td>\n",
              "    </tr>\n",
              "    <tr>\n",
              "      <th>4</th>\n",
              "      <td>0</td>\n",
              "      <td>0.118644</td>\n",
              "      <td>-1.435380</td>\n",
              "      <td>-1.128480</td>\n",
              "      <td>0.110122</td>\n",
              "      <td>-1.448360</td>\n",
              "      <td>-0.289338</td>\n",
              "      <td>3.555348</td>\n",
              "    </tr>\n",
              "    <tr>\n",
              "      <th>5</th>\n",
              "      <td>0</td>\n",
              "      <td>0.271186</td>\n",
              "      <td>-1.645794</td>\n",
              "      <td>-1.660566</td>\n",
              "      <td>0.587319</td>\n",
              "      <td>0.000205</td>\n",
              "      <td>0.865687</td>\n",
              "      <td>4.812184</td>\n",
              "    </tr>\n",
              "    <tr>\n",
              "      <th>6</th>\n",
              "      <td>0</td>\n",
              "      <td>0.220339</td>\n",
              "      <td>-1.154829</td>\n",
              "      <td>-1.261501</td>\n",
              "      <td>0.537264</td>\n",
              "      <td>-0.104004</td>\n",
              "      <td>0.609015</td>\n",
              "      <td>4.718499</td>\n",
              "    </tr>\n",
              "    <tr>\n",
              "      <th>7</th>\n",
              "      <td>1</td>\n",
              "      <td>0.355932</td>\n",
              "      <td>0.037514</td>\n",
              "      <td>0.667312</td>\n",
              "      <td>0.694105</td>\n",
              "      <td>0.427955</td>\n",
              "      <td>0.865687</td>\n",
              "      <td>4.962845</td>\n",
              "    </tr>\n",
              "    <tr>\n",
              "      <th>8</th>\n",
              "      <td>1</td>\n",
              "      <td>0.677966</td>\n",
              "      <td>0.809031</td>\n",
              "      <td>1.265909</td>\n",
              "      <td>0.489433</td>\n",
              "      <td>0.105506</td>\n",
              "      <td>0.480679</td>\n",
              "      <td>4.897840</td>\n",
              "    </tr>\n",
              "    <tr>\n",
              "      <th>9</th>\n",
              "      <td>0</td>\n",
              "      <td>0.101695</td>\n",
              "      <td>-1.996483</td>\n",
              "      <td>-1.594055</td>\n",
              "      <td>0.283648</td>\n",
              "      <td>-0.608683</td>\n",
              "      <td>0.224006</td>\n",
              "      <td>4.276666</td>\n",
              "    </tr>\n",
              "  </tbody>\n",
              "</table>\n",
              "</div>"
            ],
            "text/plain": [
              "   Gender       Age    Height  ...  Heart_Rate  Body_Temp  Calories\n",
              "0       1  0.813559  1.089582  ...    0.987193   0.994023  5.442418\n",
              "1       0  0.000000 -0.593726  ...   -0.207123   0.352342  4.189655\n",
              "2       1  0.830508  0.318066  ...   -0.802917  -1.701035  3.258097\n",
              "3       0  0.237288  0.318066  ...    0.427955   0.609015  4.262680\n",
              "4       0  0.118644 -1.435380  ...   -1.448360  -0.289338  3.555348\n",
              "5       0  0.271186 -1.645794  ...    0.000205   0.865687  4.812184\n",
              "6       0  0.220339 -1.154829  ...   -0.104004   0.609015  4.718499\n",
              "7       1  0.355932  0.037514  ...    0.427955   0.865687  4.962845\n",
              "8       1  0.677966  0.809031  ...    0.105506   0.480679  4.897840\n",
              "9       0  0.101695 -1.996483  ...   -0.608683   0.224006  4.276666\n",
              "\n",
              "[10 rows x 8 columns]"
            ]
          },
          "metadata": {
            "tags": []
          },
          "execution_count": 26
        }
      ]
    },
    {
      "cell_type": "markdown",
      "metadata": {
        "id": "xflsGLQRnPuv"
      },
      "source": [
        "Exericse dataset is now ready to training using any ML algorithm. 🥳🎉"
      ]
    }
  ]
}